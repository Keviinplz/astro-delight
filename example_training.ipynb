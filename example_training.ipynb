{
 "cells": [
  {
   "cell_type": "code",
   "execution_count": 1,
   "metadata": {},
   "outputs": [],
   "source": [
    "%load_ext tensorboard"
   ]
  },
  {
   "cell_type": "code",
   "execution_count": 2,
   "metadata": {},
   "outputs": [],
   "source": [
    "import os\n",
    "import torch\n",
    "import datetime\n",
    "\n",
    "from models.delightcnn.model import DelightCnn\n",
    "from models.delightcnn.dataset import DelightDatasetOptions\n",
    "from torch.utils.tensorboard.writer import SummaryWriter\n",
    "from models.delightcnn.training import HyperParameters, train_delight_cnn_model\n",
    "from utils import stoppers"
   ]
  },
  {
   "cell_type": "code",
   "execution_count": 3,
   "metadata": {},
   "outputs": [],
   "source": [
    "params_paper: HyperParameters = {\n",
    "    \"nconv1\": 52,\n",
    "    \"nconv2\": 57,\n",
    "    \"nconv3\": 41,\n",
    "    \"ndense\": 685,\n",
    "    \"dropout\": 0.06,\n",
    "    \"epochs\": 100,\n",
    "    \"batch_size\": 40,\n",
    "    \"lr\": 0.0014,\n",
    "}\n",
    "options = DelightDatasetOptions(\n",
    "    source=os.path.join(os.getcwd(), \"data\"),\n",
    "    n_levels=5,\n",
    "    fold=0,\n",
    "    mask=False,\n",
    "    object=True,\n",
    "    rot=True,\n",
    "    flip=True,\n",
    "    balance=True,\n",
    ")\n",
    "train_config = {\n",
    "    \"stopper\": stoppers.EarlyStopper(patience=3),\n",
    "    \"writer\": SummaryWriter(\n",
    "        comment=datetime.datetime.now().strftime(\"%Y-%m-%dT%H-%M-%SZ\")\n",
    "    ),\n",
    "    \"production\": True,\n",
    "}\n"
   ]
  },
  {
   "cell_type": "code",
   "execution_count": 4,
   "metadata": {},
   "outputs": [
    {
     "data": {
      "text/html": [
       "\n",
       "      <iframe id=\"tensorboard-frame-f58ba9fa43a88786\" width=\"100%\" height=\"800\" frameborder=\"0\">\n",
       "      </iframe>\n",
       "      <script>\n",
       "        (function() {\n",
       "          const frame = document.getElementById(\"tensorboard-frame-f58ba9fa43a88786\");\n",
       "          const url = new URL(\"/\", window.location);\n",
       "          const port = 6006;\n",
       "          if (port) {\n",
       "            url.port = port;\n",
       "          }\n",
       "          frame.src = url;\n",
       "        })();\n",
       "      </script>\n",
       "    "
      ],
      "text/plain": [
       "<IPython.core.display.HTML object>"
      ]
     },
     "metadata": {},
     "output_type": "display_data"
    },
    {
     "name": "stderr",
     "output_type": "stream",
     "text": [
      "/Users/keviinplz/.local/share/virtualenvs/refactorized-2m7BYJ1-/lib/python3.12/site-packages/ray/train/_internal/session.py:652: UserWarning: `get_checkpoint` is meant to only be called inside a function that is executed by a Tuner or Trainer. Returning `None`.\n",
      "  warnings.warn(\n"
     ]
    },
    {
     "ename": "FileNotFoundError",
     "evalue": "[Errno 2] No such file or directory: '/Users/keviinplz/thesis/data/y_train_nlevels5_fold0_maskFalse_objectsTrue.npy'",
     "output_type": "error",
     "traceback": [
      "\u001b[0;31m---------------------------------------------------------------------------\u001b[0m",
      "\u001b[0;31mFileNotFoundError\u001b[0m                         Traceback (most recent call last)",
      "\u001b[1;32m/Users/keviinplz/thesis/example_training.ipynb Cell 4\u001b[0m line \u001b[0;36m1\n\u001b[1;32m      <a href='vscode-notebook-cell:/Users/keviinplz/thesis/example_training.ipynb#W3sZmlsZQ%3D%3D?line=2'>3</a>\u001b[0m model_path \u001b[39m=\u001b[39m os\u001b[39m.\u001b[39mpath\u001b[39m.\u001b[39mjoin(\n\u001b[1;32m      <a href='vscode-notebook-cell:/Users/keviinplz/thesis/example_training.ipynb#W3sZmlsZQ%3D%3D?line=3'>4</a>\u001b[0m     os\u001b[39m.\u001b[39mgetcwd(),\n\u001b[1;32m      <a href='vscode-notebook-cell:/Users/keviinplz/thesis/example_training.ipynb#W3sZmlsZQ%3D%3D?line=4'>5</a>\u001b[0m     \u001b[39m\"\u001b[39m\u001b[39mweights\u001b[39m\u001b[39m\"\u001b[39m,\n\u001b[1;32m      <a href='vscode-notebook-cell:/Users/keviinplz/thesis/example_training.ipynb#W3sZmlsZQ%3D%3D?line=5'>6</a>\u001b[0m     \u001b[39m\"\u001b[39m\u001b[39mDelightPt\u001b[39m\u001b[39m\"\u001b[39m,\n\u001b[1;32m      <a href='vscode-notebook-cell:/Users/keviinplz/thesis/example_training.ipynb#W3sZmlsZQ%3D%3D?line=6'>7</a>\u001b[0m     \u001b[39m\"\u001b[39m\u001b[39mdelight-pt-prod-paper-params-100-epochs-new.pt\u001b[39m\u001b[39m\"\u001b[39m,\n\u001b[1;32m      <a href='vscode-notebook-cell:/Users/keviinplz/thesis/example_training.ipynb#W3sZmlsZQ%3D%3D?line=7'>8</a>\u001b[0m )\n\u001b[1;32m      <a href='vscode-notebook-cell:/Users/keviinplz/thesis/example_training.ipynb#W3sZmlsZQ%3D%3D?line=8'>9</a>\u001b[0m \u001b[39mif\u001b[39;00m \u001b[39mnot\u001b[39;00m os\u001b[39m.\u001b[39mpath\u001b[39m.\u001b[39mexists(model_path):\n\u001b[0;32m---> <a href='vscode-notebook-cell:/Users/keviinplz/thesis/example_training.ipynb#W3sZmlsZQ%3D%3D?line=9'>10</a>\u001b[0m     model \u001b[39m=\u001b[39m train_delight_cnn_model(params_paper, options, \u001b[39m*\u001b[39;49m\u001b[39m*\u001b[39;49mtrain_config)\n\u001b[1;32m     <a href='vscode-notebook-cell:/Users/keviinplz/thesis/example_training.ipynb#W3sZmlsZQ%3D%3D?line=10'>11</a>\u001b[0m     torch\u001b[39m.\u001b[39msave(model, model_path)  \u001b[39m# type: ignore\u001b[39;00m\n\u001b[1;32m     <a href='vscode-notebook-cell:/Users/keviinplz/thesis/example_training.ipynb#W3sZmlsZQ%3D%3D?line=11'>12</a>\u001b[0m \u001b[39melse\u001b[39;00m:\n",
      "File \u001b[0;32m~/thesis/models/delightcnn/training.py:211\u001b[0m, in \u001b[0;36mtrain_delight_cnn_model\u001b[0;34m(params, options, stopper, environment, writer, production)\u001b[0m\n\u001b[1;32m    206\u001b[0m train_dtype \u001b[39m=\u001b[39m DelightDatasetType\u001b[39m.\u001b[39mP_TRAIN \u001b[39mif\u001b[39;00m production \u001b[39melse\u001b[39;00m DelightDatasetType\u001b[39m.\u001b[39mTRAIN\n\u001b[1;32m    207\u001b[0m val_dtype \u001b[39m=\u001b[39m (\n\u001b[1;32m    208\u001b[0m     DelightDatasetType\u001b[39m.\u001b[39mP_VAL \u001b[39mif\u001b[39;00m production \u001b[39melse\u001b[39;00m DelightDatasetType\u001b[39m.\u001b[39mVALIDATION\n\u001b[1;32m    209\u001b[0m )\n\u001b[0;32m--> 211\u001b[0m train_dataset \u001b[39m=\u001b[39m DelightDataset(options\u001b[39m=\u001b[39;49moptions, datatype\u001b[39m=\u001b[39;49mtrain_dtype)\n\u001b[1;32m    212\u001b[0m val_dataset \u001b[39m=\u001b[39m DelightDataset(options\u001b[39m=\u001b[39moptions, datatype\u001b[39m=\u001b[39mval_dtype)\n\u001b[1;32m    214\u001b[0m train_dl \u001b[39m=\u001b[39m DataLoader(train_dataset, batch_size\u001b[39m=\u001b[39mbatch_size, shuffle\u001b[39m=\u001b[39m\u001b[39mFalse\u001b[39;00m)\n",
      "File \u001b[0;32m~/thesis/models/delightcnn/dataset.py:73\u001b[0m, in \u001b[0;36mDelightDataset.__init__\u001b[0;34m(self, options, datatype, transform_y)\u001b[0m\n\u001b[1;32m     59\u001b[0m \u001b[39mdef\u001b[39;00m \u001b[39m__init__\u001b[39m(\n\u001b[1;32m     60\u001b[0m     \u001b[39mself\u001b[39m,\n\u001b[1;32m     61\u001b[0m     options: DelightDatasetOptions,\n\u001b[1;32m     62\u001b[0m     datatype: DelightDatasetType,\n\u001b[1;32m     63\u001b[0m     transform_y: \u001b[39mbool\u001b[39m \u001b[39m=\u001b[39m \u001b[39mTrue\u001b[39;00m,\n\u001b[1;32m     64\u001b[0m ):\n\u001b[1;32m     65\u001b[0m \u001b[39m    \u001b[39m\u001b[39m\"\"\"\u001b[39;00m\n\u001b[1;32m     66\u001b[0m \u001b[39m    Initialize an instance of a `torch.utils.data.Dataset` object.\u001b[39;00m\n\u001b[1;32m     67\u001b[0m \n\u001b[0;32m   (...)\u001b[0m\n\u001b[1;32m     71\u001b[0m \u001b[39m    - transform_y: Flag that indicates if labels will be transformed using information from `options`. Defaults to `True`.\u001b[39;00m\n\u001b[1;32m     72\u001b[0m \u001b[39m    \"\"\"\u001b[39;00m\n\u001b[0;32m---> 73\u001b[0m     X, y \u001b[39m=\u001b[39m \u001b[39mself\u001b[39;49m\u001b[39m.\u001b[39;49mget_data(options, datatype)\n\u001b[1;32m     75\u001b[0m     \u001b[39mself\u001b[39m\u001b[39m.\u001b[39mX \u001b[39m=\u001b[39m torch\u001b[39m.\u001b[39mTensor(X)\u001b[39m.\u001b[39mpermute(\u001b[39m0\u001b[39m, \u001b[39m3\u001b[39m, \u001b[39m1\u001b[39m, \u001b[39m2\u001b[39m)\n\u001b[1;32m     77\u001b[0m     \u001b[39mself\u001b[39m\u001b[39m.\u001b[39my \u001b[39m=\u001b[39m (\n\u001b[1;32m     78\u001b[0m         \u001b[39mself\u001b[39m\u001b[39m.\u001b[39mtransform(\n\u001b[1;32m     79\u001b[0m             y,\n\u001b[0;32m   (...)\u001b[0m\n\u001b[1;32m     84\u001b[0m         \u001b[39melse\u001b[39;00m torch\u001b[39m.\u001b[39mfrom_numpy(y)  \u001b[39m# type: ignore\u001b[39;00m\n\u001b[1;32m     85\u001b[0m     )\n",
      "File \u001b[0;32m~/thesis/models/delightcnn/dataset.py:108\u001b[0m, in \u001b[0;36mDelightDataset.get_data\u001b[0;34m(cls, options, datatype)\u001b[0m\n\u001b[1;32m     91\u001b[0m \u001b[39m\u001b[39m\u001b[39m\"\"\"Given an option and a data type, returns a raw dataset as tuple of observations and labels.\u001b[39;00m\n\u001b[1;32m     92\u001b[0m \n\u001b[1;32m     93\u001b[0m \u001b[39mAttributes:\u001b[39;00m\n\u001b[0;32m   (...)\u001b[0m\n\u001b[1;32m     98\u001b[0m \u001b[39m- Tuple of two numpy arrays (X, y)\u001b[39;00m\n\u001b[1;32m     99\u001b[0m \u001b[39m\"\"\"\u001b[39;00m\n\u001b[1;32m    100\u001b[0m enum \u001b[39m=\u001b[39m {\n\u001b[1;32m    101\u001b[0m     DelightDatasetType\u001b[39m.\u001b[39mTRAIN: \u001b[39mcls\u001b[39m\u001b[39m.\u001b[39mget_train_data,\n\u001b[1;32m    102\u001b[0m     DelightDatasetType\u001b[39m.\u001b[39mVALIDATION: \u001b[39mcls\u001b[39m\u001b[39m.\u001b[39mget_val_data,\n\u001b[0;32m   (...)\u001b[0m\n\u001b[1;32m    105\u001b[0m     DelightDatasetType\u001b[39m.\u001b[39mP_VAL: \u001b[39mcls\u001b[39m\u001b[39m.\u001b[39mget_production_val_data,\n\u001b[1;32m    106\u001b[0m }\n\u001b[0;32m--> 108\u001b[0m \u001b[39mreturn\u001b[39;00m enum[datatype](options)\n",
      "File \u001b[0;32m~/thesis/models/delightcnn/dataset.py:278\u001b[0m, in \u001b[0;36mDelightDataset.get_production_train_data\u001b[0;34m(cls, options)\u001b[0m\n\u001b[1;32m    275\u001b[0m domask \u001b[39m=\u001b[39m options\u001b[39m.\u001b[39mmask\n\u001b[1;32m    276\u001b[0m doobject \u001b[39m=\u001b[39m options\u001b[39m.\u001b[39mobject\n\u001b[0;32m--> 278\u001b[0m y_train \u001b[39m=\u001b[39m np\u001b[39m.\u001b[39;49mload(\n\u001b[1;32m    279\u001b[0m     os\u001b[39m.\u001b[39;49mpath\u001b[39m.\u001b[39;49mjoin(\n\u001b[1;32m    280\u001b[0m         source,\n\u001b[1;32m    281\u001b[0m         \u001b[39mf\u001b[39;49m\u001b[39m\"\u001b[39;49m\u001b[39my_train_nlevels\u001b[39;49m\u001b[39m{\u001b[39;49;00mnlevels\u001b[39m}\u001b[39;49;00m\u001b[39m_fold\u001b[39;49m\u001b[39m{\u001b[39;49;00mifold\u001b[39m}\u001b[39;49;00m\u001b[39m_mask\u001b[39;49m\u001b[39m{\u001b[39;49;00mdomask\u001b[39m}\u001b[39;49;00m\u001b[39m_objects\u001b[39;49m\u001b[39m{\u001b[39;49;00mdoobject\u001b[39m}\u001b[39;49;00m\u001b[39m.npy\u001b[39;49m\u001b[39m\"\u001b[39;49m,\n\u001b[1;32m    282\u001b[0m     )\n\u001b[1;32m    283\u001b[0m )\n\u001b[1;32m    284\u001b[0m X_train \u001b[39m=\u001b[39m np\u001b[39m.\u001b[39mload(\n\u001b[1;32m    285\u001b[0m     os\u001b[39m.\u001b[39mpath\u001b[39m.\u001b[39mjoin(\n\u001b[1;32m    286\u001b[0m         source,\n\u001b[1;32m    287\u001b[0m         \u001b[39mf\u001b[39m\u001b[39m\"\u001b[39m\u001b[39mX_train_nlevels\u001b[39m\u001b[39m{\u001b[39;00mnlevels\u001b[39m}\u001b[39;00m\u001b[39m_fold\u001b[39m\u001b[39m{\u001b[39;00mifold\u001b[39m}\u001b[39;00m\u001b[39m_mask\u001b[39m\u001b[39m{\u001b[39;00mdomask\u001b[39m}\u001b[39;00m\u001b[39m_objects\u001b[39m\u001b[39m{\u001b[39;00mdoobject\u001b[39m}\u001b[39;00m\u001b[39m.npy\u001b[39m\u001b[39m\"\u001b[39m,\n\u001b[1;32m    288\u001b[0m     )\n\u001b[1;32m    289\u001b[0m )\n\u001b[1;32m    290\u001b[0m y_val \u001b[39m=\u001b[39m np\u001b[39m.\u001b[39mload(\n\u001b[1;32m    291\u001b[0m     os\u001b[39m.\u001b[39mpath\u001b[39m.\u001b[39mjoin(\n\u001b[1;32m    292\u001b[0m         source,\n\u001b[1;32m    293\u001b[0m         \u001b[39mf\u001b[39m\u001b[39m\"\u001b[39m\u001b[39my_val_nlevels\u001b[39m\u001b[39m{\u001b[39;00mnlevels\u001b[39m}\u001b[39;00m\u001b[39m_fold\u001b[39m\u001b[39m{\u001b[39;00mifold\u001b[39m}\u001b[39;00m\u001b[39m_mask\u001b[39m\u001b[39m{\u001b[39;00mdomask\u001b[39m}\u001b[39;00m\u001b[39m_objects\u001b[39m\u001b[39m{\u001b[39;00mdoobject\u001b[39m}\u001b[39;00m\u001b[39m.npy\u001b[39m\u001b[39m\"\u001b[39m,\n\u001b[1;32m    294\u001b[0m     )\n\u001b[1;32m    295\u001b[0m )\n",
      "File \u001b[0;32m~/.local/share/virtualenvs/refactorized-2m7BYJ1-/lib/python3.12/site-packages/numpy/lib/npyio.py:427\u001b[0m, in \u001b[0;36mload\u001b[0;34m(file, mmap_mode, allow_pickle, fix_imports, encoding, max_header_size)\u001b[0m\n\u001b[1;32m    425\u001b[0m     own_fid \u001b[39m=\u001b[39m \u001b[39mFalse\u001b[39;00m\n\u001b[1;32m    426\u001b[0m \u001b[39melse\u001b[39;00m:\n\u001b[0;32m--> 427\u001b[0m     fid \u001b[39m=\u001b[39m stack\u001b[39m.\u001b[39menter_context(\u001b[39mopen\u001b[39;49m(os_fspath(file), \u001b[39m\"\u001b[39;49m\u001b[39mrb\u001b[39;49m\u001b[39m\"\u001b[39;49m))\n\u001b[1;32m    428\u001b[0m     own_fid \u001b[39m=\u001b[39m \u001b[39mTrue\u001b[39;00m\n\u001b[1;32m    430\u001b[0m \u001b[39m# Code to distinguish from NumPy binary files and pickles.\u001b[39;00m\n",
      "\u001b[0;31mFileNotFoundError\u001b[0m: [Errno 2] No such file or directory: '/Users/keviinplz/thesis/data/y_train_nlevels5_fold0_maskFalse_objectsTrue.npy'"
     ]
    }
   ],
   "source": [
    "%tensorboard --logdir=runs\n",
    "\n",
    "model_path = os.path.join(\n",
    "    os.getcwd(),\n",
    "    \"weights\",\n",
    "    \"DelightPt\",\n",
    "    \"delight-pt-prod-paper-params-100-epochs-new.pt\",\n",
    ")\n",
    "if not os.path.exists(model_path):\n",
    "    model = train_delight_cnn_model(params_paper, options, **train_config)\n",
    "    torch.save(model, model_path)  # type: ignore\n",
    "else:\n",
    "    model: DelightCnn = torch.load(model_path)  # type: ignore"
   ]
  }
 ],
 "metadata": {
  "kernelspec": {
   "display_name": "refactorized-2m7BYJ1-",
   "language": "python",
   "name": "python3"
  },
  "language_info": {
   "codemirror_mode": {
    "name": "ipython",
    "version": 3
   },
   "file_extension": ".py",
   "mimetype": "text/x-python",
   "name": "python",
   "nbconvert_exporter": "python",
   "pygments_lexer": "ipython3",
   "version": "3.12.3"
  }
 },
 "nbformat": 4,
 "nbformat_minor": 2
}
