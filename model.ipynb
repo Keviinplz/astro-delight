{
 "cells": [
  {
   "cell_type": "code",
   "execution_count": 32,
   "metadata": {},
   "outputs": [],
   "source": [
    "import math\n",
    "import random\n",
    "from datetime import datetime\n",
    "\n",
    "import torch\n",
    "from torch.utils.tensorboard import SummaryWriter\n",
    "from tqdm.notebook import tqdm\n",
    "import matplotlib.pyplot as plt\n",
    "from mpl_toolkits.axes_grid1 import ImageGrid\n",
    "\n",
    "QUANTITY_OF_TEST_CASES = 20\n",
    "\n",
    "def params_to_string(params: dict) -> str:\n",
    "    name = \"\"\n",
    "    for key, value in params.items():\n",
    "        name += f\"{key}_{value}-\"\n",
    "    return name[:-1]\n",
    "\n",
    "class RotationAndFlipLayer(torch.nn.Module):\n",
    "    \"\"\"\n",
    "    A layer that converts a (B, L, C, W, H) into a (B * 8 * L, C, W, H)\n",
    "    \"\"\"\n",
    "    def __init__(self):\n",
    "        super().__init__()\n",
    "        self.metadata = None\n",
    "        \n",
    "    def forward(self, x: torch.Tensor) -> torch.Tensor:\n",
    "        # batch, levels, channels, width, height = x.shape\n",
    "        \n",
    "        # x = x.reshape(batch * levels, channels, width, height)\n",
    "        \n",
    "        # width_dim = len(x.shape) - 2\n",
    "        # height_dim = len(x.shape) - 1\n",
    "        \n",
    "        # rot90: torch.Tensor = x.rot90(k=1, dims=(width_dim, height_dim))\n",
    "        # rot180: torch.Tensor = x.rot90(k=2, dims=(width_dim, height_dim))\n",
    "        # rot270: torch.tensor = x.rot90(k=3, dims=(width_dim, height_dim))\n",
    "        # flipped: torch.Tensor = x.flip(dims=(width_dim,))\n",
    "        # flipped_rot90: torch.Tensor = flipped.rot90(k=1, dims=(width_dim, height_dim))\n",
    "        # flipped_rot180: torch.Tensor = flipped.rot90(k=2, dims=(width_dim, height_dim))\n",
    "        # flipped_rot270: torch.Tensor = flipped.rot90(k=3, dims=(width_dim, height_dim))\n",
    "\n",
    "        # transforms = (\n",
    "        #     x,\n",
    "        #     rot90,\n",
    "        #     rot180,\n",
    "        #     rot270,\n",
    "        #     flipped, \n",
    "        #     flipped_rot90,\n",
    "        #     flipped_rot180,\n",
    "        #     flipped_rot270,\n",
    "        # )\n",
    "        \n",
    "        # # transforms = (\n",
    "        # #     x,\n",
    "        # #     x,\n",
    "        # #     x,\n",
    "        # #     x,\n",
    "        # #     x, \n",
    "        # #     x,\n",
    "        # #     x,\n",
    "        # #     x,\n",
    "        # # )\n",
    "        \n",
    "        # self.metadata = { \"batch\": batch, \"levels\": levels, \"transforms\": len(transforms) }\n",
    "        \n",
    "        # return torch.cat(transforms, dim=0)\n",
    "        \n",
    "        ######################################################################################\n",
    "        \n",
    "        batch, levels, channels, width, height = x.shape\n",
    "\n",
    "        width_dim = len(x.shape) - 2\n",
    "        height_dim = len(x.shape) - 1\n",
    "        \n",
    "        flipped: torch.Tensor = x.flip(dims=(height_dim,))\n",
    "        flipped_rot90: torch.Tensor = flipped.rot90(k=1, dims=(width_dim, height_dim))\n",
    "        flipped_rot180: torch.Tensor = flipped.rot90(k=2, dims=(width_dim, height_dim))\n",
    "        flipped_rot270: torch.Tensor = flipped.rot90(k=3, dims=(width_dim, height_dim))\n",
    "        rot90: torch.Tensor = x.rot90(k=1, dims=(width_dim, height_dim))\n",
    "        rot180: torch.Tensor = x.rot90(k=2, dims=(width_dim, height_dim))\n",
    "        rot270: torch.tensor = x.rot90(k=3, dims=(width_dim, height_dim))\n",
    "\n",
    "        transforms = (\n",
    "            x,\n",
    "            rot90,\n",
    "            rot180,\n",
    "            rot270,\n",
    "            flipped, \n",
    "            flipped_rot90,\n",
    "            flipped_rot180,\n",
    "            flipped_rot270,\n",
    "        )\n",
    "\n",
    "        # transforms = (\n",
    "        #     x,\n",
    "        #     x,\n",
    "        #     x,\n",
    "        #     x,\n",
    "        #     x, \n",
    "        #     x,\n",
    "        #     x,\n",
    "        #     x,\n",
    "        # )\n",
    "        x = torch.cat(transforms, dim=1)\n",
    "        x = x.reshape(batch * levels * len(transforms), channels, width, height)\n",
    "\n",
    "        self.metadata = { \"batch\": batch, \"levels\": levels, \"transforms\": 8 }\n",
    "        return x\n",
    "\n",
    "        #####################################################################################\n",
    "        # batch, levels, channels, width, height = x.shape\n",
    "\n",
    "        # width_dim = len(x.shape) - 2\n",
    "        # height_dim = len(x.shape) - 1        \n",
    "\n",
    "        # final = []\n",
    "\n",
    "        # for i_batch in x.chunk(batch):\n",
    "        #     transforms = []\n",
    "        #     for i_level in i_batch.chunk(levels, dim=1):\n",
    "        #         flipped: torch.Tensor = i_level.flip(dims=(width_dim,))\n",
    "        #         flipped_rot90: torch.Tensor = i_level.rot90(k=1, dims=(width_dim, height_dim))\n",
    "        #         flipped_rot180: torch.Tensor = i_level.rot90(k=2, dims=(width_dim, height_dim))\n",
    "        #         flipped_rot270: torch.Tensor = i_level.rot90(k=3, dims=(width_dim, height_dim))\n",
    "        #         rot90: torch.Tensor = i_level.rot90(k=1, dims=(width_dim, height_dim))\n",
    "        #         rot180: torch.Tensor = i_level.rot90(k=2, dims=(width_dim, height_dim))\n",
    "        #         rot270: torch.tensor = i_level.rot90(k=3, dims=(width_dim, height_dim))\n",
    "        #         rot_flips = torch.cat((\n",
    "        #                 i_level,\n",
    "        #                 rot90,\n",
    "        #                 rot180,\n",
    "        #                 rot270,\n",
    "        #                 flipped,\n",
    "        #                 flipped_rot90,\n",
    "        #                 flipped_rot180,\n",
    "        #                 flipped_rot270\n",
    "        #             ), dim=1) \n",
    "        #         transforms.append(rot_flips)\n",
    "        #     final.append(torch.cat(transforms, dim=1))\n",
    "\n",
    "        # x = torch.cat(final)\n",
    "        # x = x.reshape(batch * levels * 8, 1, width, height)\n",
    "        # self.metadata = { \"batch\": batch, \"levels\": levels, \"transforms\": 8 }\n",
    "        # return x\n",
    "\n",
    "def test_rotation_and_flip_layer():\n",
    "    layer = RotationAndFlipLayer()\n",
    "    \n",
    "    for _ in range(QUANTITY_OF_TEST_CASES):\n",
    "        batch = 2 # random.randint(1, 100)\n",
    "        levels = 5 # random.randint(1, 100)\n",
    "\n",
    "        x = torch.zeros((batch, levels, 1, 30, 30))\n",
    "        out = layer.forward(x)\n",
    "\n",
    "        transforms = layer.metadata[\"transforms\"]\n",
    "\n",
    "        expected = batch * levels * 8\n",
    "        assert out.shape == torch.Size([expected, 1, 30, 30]), f\"Test failed with batch {batch} and level {levels}\"\n",
    "\n",
    "        del x\n",
    "        del out\n",
    "\n",
    "    del layer\n",
    "\n",
    "test_rotation_and_flip_layer()\n",
    "# batch = 2\n",
    "# levels = 5\n",
    "\n",
    "# x = torch.rand(batch, levels, 1, 2, 2)\n",
    "# batch, levels, channels, width, height = x.shape\n",
    "# width_dim = len(x.shape) - 2\n",
    "# height_dim = len(x.shape) - 1\n",
    "# print(x.shape)\n",
    "\n",
    "# final = []\n",
    "\n",
    "# for i_batch in x.chunk(batch):\n",
    "#     transforms = []\n",
    "#     for i_level in i_batch.chunk(levels, dim=1):\n",
    "#         flipped: torch.Tensor = i_level.flip(dims=(width_dim,))\n",
    "#         flipped_rot90: torch.Tensor = i_level.rot90(k=1, dims=(width_dim, height_dim))\n",
    "#         flipped_rot180: torch.Tensor = i_level.rot90(k=2, dims=(width_dim, height_dim))\n",
    "#         flipped_rot270: torch.Tensor = i_level.rot90(k=3, dims=(width_dim, height_dim))\n",
    "#         rot90: torch.Tensor = i_level.rot90(k=1, dims=(width_dim, height_dim))\n",
    "#         rot180: torch.Tensor = i_level.rot90(k=2, dims=(width_dim, height_dim))\n",
    "#         rot270: torch.tensor = i_level.rot90(k=3, dims=(width_dim, height_dim))\n",
    "#         rot_flips = torch.cat((\n",
    "#                 i_level,\n",
    "#                 rot90,\n",
    "#                 rot180,\n",
    "#                 rot270,\n",
    "#                 flipped,\n",
    "#                 flipped_rot90,\n",
    "#                 flipped_rot180,\n",
    "#                 flipped_rot270\n",
    "#             ), dim=1) \n",
    "#         transforms.append(rot_flips)\n",
    "#     final.append(torch.cat(transforms, dim=1))\n",
    "\n",
    "# x = torch.cat(final)\n",
    "# x = x.reshape(batch * levels * 8, 1, width, height)\n",
    "# print(x.shape)\n"
   ]
  },
  {
   "cell_type": "code",
   "execution_count": 33,
   "metadata": {},
   "outputs": [
    {
     "data": {
      "image/png": "[encoded data removed]",
      "text/plain": [
       "<Figure size 1400x1400 with 30 Axes>"
      ]
     },
     "metadata": {},
     "output_type": "display_data"
    }
   ],
   "source": [
    "class ImageVisualizer:\n",
    "    def __init__(self):\n",
    "        self._samples_array: list[tensor.Tensor] = []\n",
    "        self._levels = 5\n",
    "\n",
    "    @property\n",
    "    def nsamples(self) -> int:\n",
    "        return len(self._samples_array)\n",
    "    \n",
    "    def plot(self) -> None:\n",
    "        fig = plt.figure(figsize=(14., 14.))\n",
    "        grid = ImageGrid(fig, 111, nrows_ncols=(int(self.nsamples / self._levels), self._levels), axes_pad=0.2)\n",
    "        for ax, im in zip(grid, self._samples_array):\n",
    "            ax.imshow(im)\n",
    "\n",
    "        for level in range(1, self._levels + 1):\n",
    "            grid.axes_all[level - 1].set_title(f\"Level {level}\")\n",
    "        plt.show()\n",
    "        \n",
    "    def add(self, images: torch.Tensor) -> None:\n",
    "        if len(images.shape) != 4:\n",
    "            raise ValueError(f\"Expected 4D tensor: (levels, channels, width, height), recieved: {images.shape}\")\n",
    "\n",
    "        if images.shape[0] != self._levels: # has to be 5 levels\n",
    "            raise ValueError(f\"Expected 5 levels, recieved: {images.shape[0]}\")\n",
    "        \n",
    "        self._samples_array.extend([im.squeeze().numpy().copy() for im in images.chunk(self._levels)])\n",
    "\n",
    "    def clean(self) -> None:\n",
    "        self._samples_array = []\n",
    "\n",
    "def test_image_visualizer():\n",
    "    t1 = torch.rand(5, 1, 30, 30)\n",
    "    t2 = t1.flip(dims=(2,))\n",
    "    t3 = t1.rot90(dims=(2, 3))\n",
    "\n",
    "    visualizer = ImageVisualizer()\n",
    "    visualizer.add(t1)\n",
    "    visualizer.add(t2)\n",
    "    visualizer.add(t3)\n",
    "    \n",
    "    assert visualizer.nsamples == 15\n",
    "\n",
    "    visualizer.plot()\n",
    "\n",
    "    del visualizer\n",
    "    del t3\n",
    "    del t2\n",
    "    del t1\n",
    "\n",
    "test_image_visualizer()"
   ]
  },
  {
   "cell_type": "code",
   "execution_count": 34,
   "metadata": {},
   "outputs": [
    {
     "name": "stdout",
     "output_type": "stream",
     "text": [
      "torch.Size([80, 1, 15, 15])\n"
     ]
    },
    {
     "data": {
      "image/png": "[encoded data removed]",
      "text/plain": [
       "<Figure size 1400x1400 with 160 Axes>"
      ]
     },
     "metadata": {},
     "output_type": "display_data"
    }
   ],
   "source": [
    "x = torch.Tensor(\n",
    "    [\n",
    "        [\n",
    "        \t[\n",
    "                [0,0,0,0,0,0,0,0,0,0,0,0,0,0,0],\n",
    "            \t[0,0,0,0,0,0,0,0,0,0,0,0,0,0,0],\n",
    "            \t[0,0,0,0,0,0,0,0,0,0,0,0,0,0,0],\n",
    "            \t[0,0,0,0,0,0,0,0,0,0,0,0,0,0,0],\n",
    "            \t[0,0,0,0,0,0,0,0,0,0,0,0,0,0,0],\n",
    "            \t[0,0,0,0,1,0,1,0,1,1,0,0,0,0,0],\n",
    "            \t[0,0,0,0,1,1,0,0,1,0,1,0,0,0,0],\n",
    "            \t[0,0,0,0,1,0,1,0,1,1,0,0,0,0,0],\n",
    "            \t[0,0,0,0,1,0,1,0,1,0,0,0,0,0,0],\n",
    "            \t[0,0,0,0,0,0,0,0,0,0,0,0,0,0,0],\n",
    "            \t[0,0,0,0,0,0,0,0,0,0,0,0,0,0,0],\n",
    "            \t[0,0,0,0,0,0,0,0,0,0,0,0,0,0,0],\n",
    "            \t[0,0,0,0,0,0,0,0,0,0,0,0,0,0,0],\n",
    "            \t[0,0,0,0,0,0,0,0,0,0,0,0,0,0,0],\n",
    "            \t[0,0,0,0,0,0,0,0,0,0,0,0,0,0,0]\n",
    "            ]\n",
    "        ],\n",
    "        [\n",
    "            [\n",
    "            \t[0,0,0,0,0,0,0,0,0,0,0,0,0,0,0],\n",
    "            \t[0,0,0,0,0,0,0,0,0,0,0,0,0,0,0],\n",
    "            \t[0,0,0,0,0,0,0,0,0,0,0,0,0,0,0],\n",
    "            \t[0,0,0,0,0,0,0,0,0,0,0,0,0,0,0],\n",
    "            \t[0,0,0,1,0,0,1,0,1,1,1,0,0,0,0],\n",
    "            \t[0,0,0,1,0,1,0,0,1,0,0,1,0,0,0],\n",
    "            \t[0,0,0,1,1,0,0,0,1,1,1,0,0,0,0],\n",
    "            \t[0,0,0,1,0,1,0,0,1,0,0,0,0,0,0],\n",
    "            \t[0,0,0,1,0,0,1,0,1,0,0,0,0,0,0],\n",
    "            \t[0,0,0,0,0,0,0,0,0,0,0,0,0,0,0],\n",
    "            \t[0,0,0,0,0,0,0,0,0,0,0,0,0,0,0],\n",
    "            \t[0,0,0,0,0,0,0,0,0,0,0,0,0,0,0],\n",
    "            \t[0,0,0,0,0,0,0,0,0,0,0,0,0,0,0],\n",
    "            \t[0,0,0,0,0,0,0,0,0,0,0,0,0,0,0],\n",
    "            \t[0,0,0,0,0,0,0,0,0,0,0,0,0,0,0]\n",
    "            ]\n",
    "        ],\n",
    "        [\n",
    "            [\n",
    "                [0,0,0,0,0,0,0,0,0,0,0,0,0,0,0],\n",
    "                [0,0,0,0,0,0,0,0,0,0,0,0,0,0,0],\n",
    "                [0,0,0,0,0,0,0,0,0,0,0,0,0,0,0],\n",
    "                [0,0,0,0,0,0,0,0,0,0,0,0,0,0,0],\n",
    "                [0,0,1,0,0,0,1,0,0,1,1,1,0,0,0],\n",
    "                [0,0,1,0,0,1,0,0,0,1,0,0,1,0,0],\n",
    "                [0,0,1,0,1,0,0,0,0,1,0,0,1,0,0],\n",
    "                [0,0,1,1,0,0,0,0,0,1,1,1,0,0,0],\n",
    "                [0,0,1,0,1,0,0,0,0,1,0,0,0,0,0],\n",
    "                [0,0,1,0,0,1,0,0,0,1,0,0,0,0,0],\n",
    "                [0,0,1,0,0,0,1,0,0,1,0,0,0,0,0],\n",
    "                [0,0,0,0,0,0,0,0,0,0,0,0,0,0,0],\n",
    "                [0,0,0,0,0,0,0,0,0,0,0,0,0,0,0],\n",
    "                [0,0,0,0,0,0,0,0,0,0,0,0,0,0,0],\n",
    "                [0,0,0,0,0,0,0,0,0,0,0,0,0,0,0]\n",
    "            ]\n",
    "        ],\n",
    "        [\n",
    "            [\n",
    "            \t[0,0,0,0,0,0,0,0,0,0,0,0,0,0,0],\n",
    "            \t[0,0,0,0,0,0,0,0,0,0,0,0,0,0,0],\n",
    "            \t[0,1,0,0,0,0,1,0,1,1,1,1,0,0,0],\n",
    "            \t[0,1,0,0,0,0,1,0,1,0,0,0,1,0,0],\n",
    "            \t[0,1,0,0,0,0,1,0,1,0,0,0,0,1,0],\n",
    "            \t[0,1,0,0,0,1,0,0,1,0,0,0,0,1,0],\n",
    "            \t[0,1,0,0,1,0,0,0,1,0,0,0,1,0,0],\n",
    "            \t[0,1,1,1,0,0,0,0,1,1,1,1,0,0,0],\n",
    "            \t[0,1,0,0,1,0,0,0,1,0,0,0,0,0,0],\n",
    "            \t[0,1,0,0,0,1,0,0,1,0,0,0,0,0,0],\n",
    "            \t[0,1,0,0,0,0,1,0,1,0,0,0,0,0,0],\n",
    "            \t[0,1,0,0,0,0,1,0,1,0,0,0,0,0,0],\n",
    "            \t[0,1,0,0,0,0,1,0,1,0,0,0,0,0,0],\n",
    "            \t[0,0,0,0,0,0,0,0,0,0,0,0,0,0,0],\n",
    "            \t[0,0,0,0,0,0,0,0,0,0,0,0,0,0,0]\n",
    "            ]\n",
    "        ],\n",
    "        [\n",
    "            [\n",
    "            \t[1,0,0,0,0,0,1,0,1,1,1,1,0,0,0],\n",
    "            \t[1,0,0,0,0,0,1,0,1,1,1,1,1,0,0],\n",
    "            \t[1,0,0,0,0,1,1,0,1,0,0,0,0,1,0],\n",
    "            \t[1,0,0,0,0,1,1,0,1,0,0,0,0,0,1],\n",
    "            \t[1,0,0,0,0,1,1,0,1,0,0,0,0,0,1],\n",
    "            \t[1,0,0,0,1,1,0,0,1,0,0,0,0,0,1],\n",
    "            \t[1,1,1,1,0,0,0,0,1,0,0,0,0,1,0],\n",
    "            \t[1,1,1,1,0,0,0,0,1,0,0,0,1,0,0],\n",
    "            \t[1,1,1,1,1,0,0,0,1,1,1,1,0,0,0],\n",
    "            \t[1,0,0,0,1,1,0,0,1,0,0,0,0,0,0],\n",
    "            \t[1,0,0,0,0,1,0,0,1,0,0,0,0,0,0],\n",
    "            \t[1,0,0,0,0,1,0,0,1,0,0,0,0,0,0],\n",
    "            \t[1,0,0,0,0,1,1,0,1,0,0,0,0,0,0],\n",
    "            \t[1,0,0,0,0,0,1,0,1,0,0,0,0,0,0],\n",
    "            \t[1,0,0,0,0,0,1,0,1,0,0,0,0,0,0]\n",
    "            ]\n",
    "        ]\n",
    "    ]\n",
    ")\n",
    "\n",
    "y = torch.Tensor(\n",
    "    [\n",
    "        [\n",
    "            [\n",
    "                [0,0,0,0,0,0,0,0,0,0,0,0,0,0,0],\n",
    "                [0,0,0,0,0,0,0,0,0,0,0,0,0,0,0],\n",
    "                [0,0,0,0,0,0,0,0,0,0,0,0,0,0,0],\n",
    "                [0,0,0,0,0,0,0,0,0,0,0,0,0,0,0],\n",
    "                [0,0,0,0,0,0,1,0,1,0,0,0,0,0,0],\n",
    "                [0,0,0,0,0,0,1,0,1,0,0,0,0,0,0],\n",
    "                [0,0,0,0,0,0,1,0,1,0,0,0,0,0,0],\n",
    "                [0,0,0,0,0,0,0,0,0,0,0,0,0,0,0],\n",
    "                [0,0,0,0,0,1,0,0,0,1,0,0,0,0,0],\n",
    "                [0,0,0,0,0,0,1,1,1,0,0,0,0,0,0],\n",
    "                [0,0,0,0,0,0,0,0,0,0,0,0,0,0,0],\n",
    "                [0,0,0,0,0,0,0,0,0,0,0,0,0,0,0],\n",
    "                [0,0,0,0,0,0,0,0,0,0,0,0,0,0,0],\n",
    "                [0,0,0,0,0,0,0,0,0,0,0,0,0,0,0],\n",
    "                [0,0,0,0,0,0,0,0,0,0,0,0,0,0,0]\n",
    "            ]\n",
    "        ],\n",
    "        [\n",
    "            [\n",
    "            \t[0,0,0,0,0,0,0,0,0,0,0,0,0,0,0],\n",
    "            \t[0,0,0,0,0,0,0,0,0,0,0,0,0,0,0],\n",
    "            \t[0,0,0,0,0,0,0,0,0,0,0,0,0,0,0],\n",
    "            \t[0,0,0,0,0,1,0,0,0,1,0,0,0,0,0],\n",
    "            \t[0,0,0,0,0,1,0,0,0,1,0,0,0,0,0],\n",
    "            \t[0,0,0,0,0,1,0,0,0,1,0,0,0,0,0],\n",
    "            \t[0,0,0,0,0,1,0,0,0,1,0,0,0,0,0],\n",
    "            \t[0,0,0,0,0,0,0,0,0,0,0,0,0,0,0],\n",
    "            \t[0,0,0,0,1,0,0,0,0,0,1,0,0,0,0],\n",
    "            \t[0,0,0,0,0,1,0,0,0,1,0,0,0,0,0],\n",
    "            \t[0,0,0,0,0,0,1,1,1,0,0,0,0,0,0],\n",
    "            \t[0,0,0,0,0,0,0,0,0,0,0,0,0,0,0],\n",
    "            \t[0,0,0,0,0,0,0,0,0,0,0,0,0,0,0],\n",
    "            \t[0,0,0,0,0,0,0,0,0,0,0,0,0,0,0],\n",
    "            \t[0,0,0,0,0,0,0,0,0,0,0,0,0,0,0]\n",
    "            ]\n",
    "        ],\n",
    "        [\n",
    "            [\n",
    "            \t[0,0,0,0,0,0,0,0,0,0,0,0,0,0,0],\n",
    "            \t[0,0,0,0,0,0,0,0,0,0,0,0,0,0,0],\n",
    "            \t[0,0,0,0,1,0,0,0,0,0,1,0,0,0,0],\n",
    "            \t[0,0,0,0,1,0,0,0,0,0,1,0,0,0,0],\n",
    "            \t[0,0,0,0,1,0,0,0,0,0,1,0,0,0,0],\n",
    "            \t[0,0,0,0,1,0,0,0,0,0,1,0,0,0,0],\n",
    "            \t[0,0,0,0,1,0,0,0,0,0,1,0,0,0,0],\n",
    "            \t[0,0,0,0,1,0,0,0,0,0,1,0,0,0,0],\n",
    "            \t[0,0,0,0,0,0,0,0,0,0,0,0,0,0,0],\n",
    "            \t[0,0,0,1,0,0,0,0,0,0,0,1,0,0,0],\n",
    "            \t[0,0,0,0,1,0,0,0,0,0,1,0,0,0,0],\n",
    "            \t[0,0,0,0,0,1,1,1,1,1,0,0,0,0,0],\n",
    "            \t[0,0,0,0,0,0,0,0,0,0,0,0,0,0,0],\n",
    "            \t[0,0,0,0,0,0,0,0,0,0,0,0,0,0,0],\n",
    "            \t[0,0,0,0,0,0,0,0,0,0,0,0,0,0,0]\n",
    "            ]\n",
    "        ],\n",
    "        [\n",
    "            [\n",
    "            \t[0,0,0,0,0,0,0,0,0,0,0,0,0,0,0],\n",
    "            \t[0,0,0,1,0,0,0,0,0,0,0,1,0,0,0],\n",
    "            \t[0,0,0,1,0,0,0,0,0,0,0,1,0,0,0],\n",
    "            \t[0,0,0,1,0,0,0,0,0,0,0,1,0,0,0],\n",
    "            \t[0,0,0,1,0,0,0,0,0,0,0,1,0,0,0],\n",
    "            \t[0,0,0,1,0,0,0,0,0,0,0,1,0,0,0],\n",
    "            \t[0,0,0,1,0,0,0,0,0,0,0,1,0,0,0],\n",
    "            \t[0,0,0,1,0,0,0,0,0,0,0,1,0,0,0],\n",
    "            \t[0,0,0,1,0,0,0,0,0,0,0,1,0,0,0],\n",
    "            \t[0,0,0,1,0,0,0,0,0,0,0,1,0,0,0],\n",
    "            \t[0,1,0,0,0,0,0,0,0,0,0,0,0,1,0],\n",
    "            \t[0,0,1,0,0,0,0,0,0,0,0,0,1,0,0],\n",
    "            \t[0,0,0,1,0,0,0,0,0,0,0,1,0,0,0],\n",
    "            \t[0,0,0,0,1,1,1,1,1,1,1,0,0,0,0],\n",
    "            \t[0,0,0,0,0,0,0,0,0,0,0,0,0,0,0]\n",
    "            ]\n",
    "        ],\n",
    "        [\n",
    "            [\n",
    "                [0,0,1,1,0,0,0,0,0,0,0,1,1,0,0],\n",
    "                [0,0,1,1,0,0,0,0,0,0,0,1,1,0,0],\n",
    "                [0,0,1,1,0,0,0,0,0,0,0,1,1,0,0],\n",
    "                [0,0,1,1,0,0,0,0,0,0,0,1,1,0,0],\n",
    "                [0,0,1,1,0,0,0,0,0,0,0,1,1,0,0],\n",
    "                [0,0,1,1,0,0,0,0,0,0,0,1,1,0,0],\n",
    "                [0,0,1,1,0,0,0,0,0,0,0,1,1,0,0],\n",
    "                [0,0,1,1,0,0,0,0,0,0,0,1,1,0,0],\n",
    "                [0,0,1,1,0,0,0,0,0,0,0,1,1,0,0],\n",
    "                [1,0,1,1,0,0,0,0,0,0,0,1,1,0,1],\n",
    "                [1,0,0,0,0,0,0,0,0,0,0,0,0,0,1],\n",
    "                [1,1,1,0,0,0,0,0,0,0,0,0,1,1,1],\n",
    "                [0,1,1,1,0,0,0,0,0,0,0,1,1,1,0],\n",
    "                [0,0,1,1,1,1,1,1,1,1,1,1,1,0,0],\n",
    "                [0,0,0,0,0,0,0,0,0,0,0,0,0,0,0]\n",
    "            ]\n",
    "        ]\n",
    "    ]\n",
    ")\n",
    "_x = torch.stack([x, y])\n",
    "_x.shape\n",
    "\n",
    "_vis = ImageVisualizer()\n",
    "_layer = RotationAndFlipLayer()\n",
    "_out = _layer.forward(_x)\n",
    "print(_out.shape)\n",
    "for i in range(16):\n",
    "    _min, _max = i * 5, (i + 1) * 5\n",
    "    _vis.add(_out[_min:_max])\n",
    "\n",
    "_vis.plot()"
   ]
  },
  {
   "cell_type": "code",
   "execution_count": 35,
   "metadata": {},
   "outputs": [],
   "source": [
    "# chunks = []\n",
    "# for transform in x.chunk(n_transform):\n",
    "#     partitions = [batch.reshape(-1) for batch in transform.chunk(batch_size)]\n",
    "#     chunks.append(torch.stack(partitions))\n",
    "# return torch.stack(chunks).permute(1, 0, 2)"
   ]
  },
  {
   "cell_type": "code",
   "execution_count": 36,
   "metadata": {},
   "outputs": [],
   "source": [
    "chunks = []\n",
    "\n",
    "_vis1 = ImageVisualizer()\n",
    "_vis2 = ImageVisualizer()\n",
    "for transform in _out.chunk(2):\n",
    "    for partition in transform.chunk(8):\n",
    "        _vis1.add(partition)\n",
    "        "
   ]
  },
  {
   "cell_type": "code",
   "execution_count": 37,
   "metadata": {},
   "outputs": [
    {
     "data": {
      "image/png": "[encoded data removed]",
      "text/plain": [
       "<Figure size 1400x1400 with 160 Axes>"
      ]
     },
     "metadata": {},
     "output_type": "display_data"
    }
   ],
   "source": [
    "_vis1.plot()"
   ]
  },
  {
   "cell_type": "code",
   "execution_count": 38,
   "metadata": {},
   "outputs": [
    {
     "name": "stdout",
     "output_type": "stream",
     "text": [
      "pre rot_and_flips: torch.Size([27, 3, 1, 30, 30])\n",
      "pre bottleneck: torch.Size([648, 1, 30, 30])\n",
      "Post bottleneck: torch.Size([648, 656])\n",
      "Post undo: torch.Size([27, 8, 1968])\n",
      "Post fc1: torch.Size([27, 8, 685])\n",
      "Post fc2: torch.Size([27, 8, 2])\n",
      "final: torch.Size([27, 16])\n",
      "pre rot_and_flips: torch.Size([8, 5, 1, 30, 30])\n",
      "pre bottleneck: torch.Size([320, 1, 30, 30])\n",
      "Post bottleneck: torch.Size([320, 656])\n",
      "Post undo: torch.Size([8, 8, 3280])\n",
      "Post fc1: torch.Size([8, 8, 685])\n",
      "Post fc2: torch.Size([8, 8, 2])\n",
      "final: torch.Size([8, 16])\n",
      "pre rot_and_flips: torch.Size([10, 4, 1, 30, 30])\n",
      "pre bottleneck: torch.Size([320, 1, 30, 30])\n",
      "Post bottleneck: torch.Size([320, 656])\n",
      "Post undo: torch.Size([10, 8, 2624])\n",
      "Post fc1: torch.Size([10, 8, 685])\n",
      "Post fc2: torch.Size([10, 8, 2])\n",
      "final: torch.Size([10, 16])\n",
      "pre rot_and_flips: torch.Size([28, 4, 1, 30, 30])\n",
      "pre bottleneck: torch.Size([896, 1, 30, 30])\n",
      "Post bottleneck: torch.Size([896, 656])\n",
      "Post undo: torch.Size([28, 8, 2624])\n",
      "Post fc1: torch.Size([28, 8, 685])\n",
      "Post fc2: torch.Size([28, 8, 2])\n",
      "final: torch.Size([28, 16])\n",
      "pre rot_and_flips: torch.Size([2, 4, 1, 30, 30])\n",
      "pre bottleneck: torch.Size([64, 1, 30, 30])\n",
      "Post bottleneck: torch.Size([64, 656])\n",
      "Post undo: torch.Size([2, 8, 2624])\n",
      "Post fc1: torch.Size([2, 8, 685])\n",
      "Post fc2: torch.Size([2, 8, 2])\n",
      "final: torch.Size([2, 16])\n",
      "pre rot_and_flips: torch.Size([19, 1, 1, 30, 30])\n",
      "pre bottleneck: torch.Size([152, 1, 30, 30])\n",
      "Post bottleneck: torch.Size([152, 656])\n",
      "Post undo: torch.Size([19, 8, 656])\n",
      "Post fc1: torch.Size([19, 8, 685])\n",
      "Post fc2: torch.Size([19, 8, 2])\n",
      "final: torch.Size([19, 16])\n",
      "pre rot_and_flips: torch.Size([25, 5, 1, 30, 30])\n",
      "pre bottleneck: torch.Size([1000, 1, 30, 30])\n",
      "Post bottleneck: torch.Size([1000, 656])\n",
      "Post undo: torch.Size([25, 8, 3280])\n",
      "Post fc1: torch.Size([25, 8, 685])\n",
      "Post fc2: torch.Size([25, 8, 2])\n",
      "final: torch.Size([25, 16])\n",
      "pre rot_and_flips: torch.Size([10, 5, 1, 30, 30])\n",
      "pre bottleneck: torch.Size([400, 1, 30, 30])\n",
      "Post bottleneck: torch.Size([400, 656])\n",
      "Post undo: torch.Size([10, 8, 3280])\n",
      "Post fc1: torch.Size([10, 8, 685])\n",
      "Post fc2: torch.Size([10, 8, 2])\n",
      "final: torch.Size([10, 16])\n",
      "pre rot_and_flips: torch.Size([5, 2, 1, 30, 30])\n",
      "pre bottleneck: torch.Size([80, 1, 30, 30])\n",
      "Post bottleneck: torch.Size([80, 656])\n",
      "Post undo: torch.Size([5, 8, 1312])\n",
      "Post fc1: torch.Size([5, 8, 685])\n",
      "Post fc2: torch.Size([5, 8, 2])\n",
      "final: torch.Size([5, 16])\n",
      "pre rot_and_flips: torch.Size([3, 3, 1, 30, 30])\n",
      "pre bottleneck: torch.Size([72, 1, 30, 30])\n",
      "Post bottleneck: torch.Size([72, 656])\n",
      "Post undo: torch.Size([3, 8, 1968])\n",
      "Post fc1: torch.Size([3, 8, 685])\n",
      "Post fc2: torch.Size([3, 8, 2])\n",
      "final: torch.Size([3, 16])\n",
      "pre rot_and_flips: torch.Size([14, 1, 1, 30, 30])\n",
      "pre bottleneck: torch.Size([112, 1, 30, 30])\n",
      "Post bottleneck: torch.Size([112, 656])\n",
      "Post undo: torch.Size([14, 8, 656])\n",
      "Post fc1: torch.Size([14, 8, 685])\n",
      "Post fc2: torch.Size([14, 8, 2])\n",
      "final: torch.Size([14, 16])\n",
      "pre rot_and_flips: torch.Size([12, 1, 1, 30, 30])\n",
      "pre bottleneck: torch.Size([96, 1, 30, 30])\n",
      "Post bottleneck: torch.Size([96, 656])\n",
      "Post undo: torch.Size([12, 8, 656])\n",
      "Post fc1: torch.Size([12, 8, 685])\n",
      "Post fc2: torch.Size([12, 8, 2])\n",
      "final: torch.Size([12, 16])\n",
      "pre rot_and_flips: torch.Size([23, 1, 1, 30, 30])\n",
      "pre bottleneck: torch.Size([184, 1, 30, 30])\n",
      "Post bottleneck: torch.Size([184, 656])\n",
      "Post undo: torch.Size([23, 8, 656])\n",
      "Post fc1: torch.Size([23, 8, 685])\n",
      "Post fc2: torch.Size([23, 8, 2])\n",
      "final: torch.Size([23, 16])\n",
      "pre rot_and_flips: torch.Size([26, 2, 1, 30, 30])\n",
      "pre bottleneck: torch.Size([416, 1, 30, 30])\n",
      "Post bottleneck: torch.Size([416, 656])\n",
      "Post undo: torch.Size([26, 8, 1312])\n",
      "Post fc1: torch.Size([26, 8, 685])\n",
      "Post fc2: torch.Size([26, 8, 2])\n",
      "final: torch.Size([26, 16])\n",
      "pre rot_and_flips: torch.Size([30, 2, 1, 30, 30])\n",
      "pre bottleneck: torch.Size([480, 1, 30, 30])\n",
      "Post bottleneck: torch.Size([480, 656])\n",
      "Post undo: torch.Size([30, 8, 1312])\n",
      "Post fc1: torch.Size([30, 8, 685])\n",
      "Post fc2: torch.Size([30, 8, 2])\n",
      "final: torch.Size([30, 16])\n",
      "pre rot_and_flips: torch.Size([23, 1, 1, 30, 30])\n",
      "pre bottleneck: torch.Size([184, 1, 30, 30])\n",
      "Post bottleneck: torch.Size([184, 656])\n",
      "Post undo: torch.Size([23, 8, 656])\n",
      "Post fc1: torch.Size([23, 8, 685])\n",
      "Post fc2: torch.Size([23, 8, 2])\n",
      "final: torch.Size([23, 16])\n",
      "pre rot_and_flips: torch.Size([15, 2, 1, 30, 30])\n",
      "pre bottleneck: torch.Size([240, 1, 30, 30])\n",
      "Post bottleneck: torch.Size([240, 656])\n",
      "Post undo: torch.Size([15, 8, 1312])\n",
      "Post fc1: torch.Size([15, 8, 685])\n",
      "Post fc2: torch.Size([15, 8, 2])\n",
      "final: torch.Size([15, 16])\n",
      "pre rot_and_flips: torch.Size([16, 1, 1, 30, 30])\n",
      "pre bottleneck: torch.Size([128, 1, 30, 30])\n",
      "Post bottleneck: torch.Size([128, 656])\n",
      "Post undo: torch.Size([16, 8, 656])\n",
      "Post fc1: torch.Size([16, 8, 685])\n",
      "Post fc2: torch.Size([16, 8, 2])\n",
      "final: torch.Size([16, 16])\n",
      "pre rot_and_flips: torch.Size([5, 2, 1, 30, 30])\n",
      "pre bottleneck: torch.Size([80, 1, 30, 30])\n",
      "Post bottleneck: torch.Size([80, 656])\n",
      "Post undo: torch.Size([5, 8, 1312])\n",
      "Post fc1: torch.Size([5, 8, 685])\n",
      "Post fc2: torch.Size([5, 8, 2])\n",
      "final: torch.Size([5, 16])\n",
      "pre rot_and_flips: torch.Size([1, 5, 1, 30, 30])\n",
      "pre bottleneck: torch.Size([40, 1, 30, 30])\n",
      "Post bottleneck: torch.Size([40, 656])\n",
      "Post undo: torch.Size([1, 8, 3280])\n",
      "Post fc1: torch.Size([1, 8, 685])\n",
      "Post fc2: torch.Size([1, 8, 2])\n",
      "final: torch.Size([1, 16])\n"
     ]
    }
   ],
   "source": [
    "class DELIGHTModel(torch.nn.Module):\n",
    "    \"\"\"\n",
    "    DELIGHT implementation written in torch.\n",
    "\n",
    "    Allows inputs of ([B]atch, [L]evel, 1, 30, 30).\n",
    "\n",
    "    \"\"\"\n",
    "    def __init__(self, \n",
    "                 debug: bool = False,\n",
    "                 levels: int = 5, \n",
    "                 nconv1: int = 52, \n",
    "                 nconv2: int = 57, \n",
    "                 nconv3: int = 41, \n",
    "                 ndense: int = 685\n",
    "    ):\n",
    "        super().__init__()\n",
    "        self.debug = debug\n",
    "        self.LEVELS = levels\n",
    "        self.CONV2D_ONE_OUT_CHANNELS = nconv1\n",
    "        self.CONV2D_TWO_OUT_CHANNELS = nconv2\n",
    "        self.CONV2D_THREE_OUT_CHANNELS = nconv3\n",
    "        self.LINEAR_TWO_IN = ndense\n",
    "\n",
    "        h = w = 30\n",
    "        conv_kernel_size = 3\n",
    "        mp_kernel_size = 2\n",
    "\n",
    "        self.rot_and_flip = RotationAndFlipLayer()\n",
    "        self.conv1 = torch.nn.Conv2d(\n",
    "            in_channels=1,\n",
    "            out_channels=self.CONV2D_ONE_OUT_CHANNELS, \n",
    "            kernel_size=conv_kernel_size\n",
    "        )\n",
    "        \n",
    "        self.conv2 = torch.nn.Conv2d(\n",
    "            in_channels=self.conv1.out_channels, \n",
    "            out_channels=self.CONV2D_TWO_OUT_CHANNELS,\n",
    "            kernel_size=conv_kernel_size\n",
    "        )\n",
    "        \n",
    "        self.conv3 = torch.nn.Conv2d(\n",
    "            in_channels=self.conv2.out_channels, \n",
    "            out_channels=self.CONV2D_THREE_OUT_CHANNELS, \n",
    "            kernel_size=conv_kernel_size\n",
    "        )\n",
    "        \n",
    "        self.relu = torch.nn.ReLU()\n",
    "        self.max_pool = torch.nn.MaxPool2d(kernel_size=mp_kernel_size)\n",
    "        self.flatten = torch.nn.Flatten()\n",
    "        \n",
    "        self.bottleneck = torch.nn.Sequential(\n",
    "            self.conv1,\n",
    "            self.relu,\n",
    "            self.max_pool, \n",
    "            self.conv2,\n",
    "            self.relu,\n",
    "            self.max_pool,\n",
    "            self.conv3,\n",
    "            self.relu,\n",
    "            self.flatten,\n",
    "        )\n",
    "\n",
    "        linear_in = self._compute_fc1_features(\n",
    "            width=w,\n",
    "            height=h,\n",
    "            conv_kernel_size=conv_kernel_size,\n",
    "            mp_kernel_size=mp_kernel_size\n",
    "        )\n",
    "\n",
    "        self.fc1 = torch.nn.Linear(in_features=linear_in, out_features=self.LINEAR_TWO_IN)\n",
    "        self.fc2 = torch.nn.Linear(in_features=self.LINEAR_TWO_IN, out_features=2)\n",
    "        self.tanh = torch.nn.Tanh()\n",
    "\n",
    "    def _compute_fc1_features(self, *, width: int, height: int, conv_kernel_size: int, mp_kernel_size: int) -> int:\n",
    "        height = height - conv_kernel_size + 1          # conv2d 1 \n",
    "        height = math.floor((height - mp_kernel_size)/2 + 1)  # maxpool2d 1 \n",
    "        height = height - conv_kernel_size + 1          # conv2d 2\n",
    "        height = math.floor((height - mp_kernel_size)/2 + 1)  # maxpool2d 2\n",
    "        height = height - conv_kernel_size + 1          # conv2d 3\n",
    "\n",
    "        width = width - conv_kernel_size + 1          # conv2d 1\n",
    "        width = math.floor((width - mp_kernel_size)/2 + 1)  # maxpool2d 1\n",
    "        width = width - conv_kernel_size + 1          # conv2d 2\n",
    "        width = math.floor((width - mp_kernel_size)/2 + 1)  # maxpool2d 2\n",
    "        width = width - conv_kernel_size + 1          # conv2d 3\n",
    "        return height * width * self.CONV2D_THREE_OUT_CHANNELS * self.LEVELS\n",
    "                \n",
    "    def forward(self, x: torch.Tensor) -> torch.Tensor:                \n",
    "        # Apply flips and rotations over level (L) dimension\n",
    "        if self.debug:\n",
    "            print(f\"pre rot_and_flips: {x.shape}\")\n",
    "        \n",
    "        x = self.rot_and_flip(x)\n",
    "        batch_size = self.rot_and_flip.metadata[\"batch\"]\n",
    "        n_transforms = self.rot_and_flip.metadata[\"transforms\"]\n",
    "        \n",
    "        if self.debug:\n",
    "            print(f\"pre bottleneck: {x.shape}\")\n",
    "        \n",
    "        # Bottleneck\n",
    "        x = self.conv1(x)\n",
    "        x = self.relu(x)\n",
    "        x = self.max_pool(x)\n",
    "\n",
    "        x = self.conv2(x)\n",
    "        x = self.relu(x)\n",
    "        x = self.max_pool(x)\n",
    "        \n",
    "        x = self.conv3(x)\n",
    "        x = self.relu(x)\n",
    "        x = self.flatten(x)\n",
    "\n",
    "        if self.debug:\n",
    "            print(f\"Post bottleneck: {x.shape}\")\n",
    "\n",
    "        # Undo transformations\n",
    "        x = x.reshape(batch_size, n_transforms, -1)\n",
    "        \n",
    "        if self.debug:\n",
    "            print(f\"Post undo: {x.shape}\")\n",
    "        # Linear\n",
    "        x = self.fc1(x)\n",
    "        if self.debug:\n",
    "            print(f\"Post fc1: {x.shape}\")\n",
    "        x = self.tanh(x)\n",
    "        x = self.fc2(x)\n",
    "        if self.debug:\n",
    "            print(f\"Post fc2: {x.shape}\")\n",
    "        \n",
    "        x = x.reshape((batch_size, n_transforms * 2))\n",
    "\n",
    "        if self.debug:\n",
    "            print(f\"final: {x.shape}\")\n",
    "        \n",
    "        return x\n",
    "def test_input_output_parameters_on_delight_model():\n",
    "    for _ in range(QUANTITY_OF_TEST_CASES):\n",
    "        batch = random.randint(1, 32)\n",
    "        levels = random.randint(1, 5)\n",
    "\n",
    "        x = torch.zeros((batch, levels, 1, 30, 30))\n",
    "        model = DELIGHTModel(debug=True, levels=levels)\n",
    "\n",
    "        try:\n",
    "            out = model.forward(x)\n",
    "        except RuntimeError:\n",
    "            assert False, f\"Runtime error on model with batch {batch} and levels {levels}\"\n",
    "        \n",
    "        expected = torch.Size([batch, 16])\n",
    "        assert out.shape == expected, f\"Failed with batch {batch} and levels {levels} => {out.shape} != {expected}\"\n",
    "        del out\n",
    "        del model\n",
    "        del x\n",
    "\n",
    "test_input_output_parameters_on_delight_model()"
   ]
  },
  {
   "cell_type": "code",
   "execution_count": 39,
   "metadata": {},
   "outputs": [],
   "source": [
    "import os\n",
    "from enum import Enum\n",
    "from typing import Union\n",
    "from dataclasses import dataclass\n",
    "\n",
    "import numpy as np\n",
    "from torch.utils.data import Dataset\n",
    "\n",
    "class CustomDatasetType(Enum):\n",
    "    TRAIN = \"TRAIN\"\n",
    "    TEST = \"TEST\"\n",
    "    VALIDATION = \"VALIDATION\"\n",
    "    \n",
    "@dataclass\n",
    "class CustomDatasetOptions:\n",
    "    dataset_type: CustomDatasetType\n",
    "    n_levels: int\n",
    "    fold: int\n",
    "    mask: bool\n",
    "    object: bool\n",
    "\n",
    "    def get_filenames(self) -> str:\n",
    "        if self.dataset_type == CustomDatasetType.TRAIN:\n",
    "            X = \"X_train_nlevels%i_fold%i_mask%s_objects%s.npy\" % (self.n_levels, self.fold, self.mask, self.object)\n",
    "            y = \"y_train_nlevels%i_fold%i_mask%s_objects%s.npy\" % (self.n_levels, self.fold, self.mask, self.object)\n",
    "        elif self.dataset_type == CustomDatasetType.TEST:\n",
    "            X = \"X_test_nlevels%i_mask%s_objects%s.npy\" % (self.n_levels, self.mask, self.object)\n",
    "            y = \"y_test_nlevels%i_mask%s_objects%s.npy\" % (self.n_levels, self.mask, self.object)\n",
    "        else:\n",
    "            X = \"X_val_nlevels%i_fold%i_mask%s_objects%s.npy\" % (self.n_levels, self.fold, self.mask, self.object)\n",
    "            y = \"y_val_nlevels%i_fold%i_mask%s_objects%s.npy\" % (self.n_levels, self.fold, self.mask, self.object)\n",
    "            \n",
    "        return X, y\n",
    "            \n",
    "class CustomDataset(Dataset):    \n",
    "    def __init__(self, options: CustomDatasetOptions, source: Union[str, None] = None):\n",
    "        self.source = source if source is not None else \"/home/fforster/SNHosts/data\"\n",
    "        X_path, y_path = options.get_filenames()\n",
    "        self.X = torch.Tensor(np.load(os.path.join(self.source, X_path))).permute(0, 3, 1, 2)\n",
    "        self.y = torch.Tensor(self.rotateY(np.load(os.path.join(self.source, y_path))))\n",
    "\n",
    "    def rotateY(self, y: np.ndarray) -> np.ndarray:\n",
    "        y90 = [-1, 1] * y[:, ::-1]\n",
    "        y180 = [-1, 1] * y90[:, ::-1]\n",
    "        y270 = [-1, 1] * y180[:, ::-1]\n",
    "        yflip = [1, -1] * y\n",
    "        yflip90 = [-1, 1] * yflip[:, ::-1]\n",
    "        yflip180 = [-1, 1] * yflip90[:, ::-1]\n",
    "        yflip270 = [-1, 1] * yflip180[:, ::-1]\n",
    "\n",
    "        return np.concatenate([\n",
    "            y,\n",
    "            y90,\n",
    "            y180,\n",
    "            y270,\n",
    "            yflip,\n",
    "            yflip90,\n",
    "            yflip180,\n",
    "            yflip270\n",
    "        ], axis=1)\n",
    "\n",
    "        # return np.concatenate([\n",
    "        #     y,\n",
    "        #     y,\n",
    "        #     y,\n",
    "        #     y,\n",
    "        #     y,\n",
    "        #     y,\n",
    "        #     y,\n",
    "        #     y\n",
    "        # ], axis=1)\n",
    "    def __len__(self):\n",
    "        return len(self.y)\n",
    "\n",
    "    def __getitem__(self, idx: int):\n",
    "        X = self.X[idx]\n",
    "        y = self.y[idx]\n",
    "\n",
    "        if len(X.shape) == 3: # has no channel information\n",
    "            levels, width, height = X.shape \n",
    "            X = X.reshape(levels, 1, width, height) # asume 1 channel information\n",
    "        return X, y"
   ]
  },
  {
   "cell_type": "code",
   "execution_count": 40,
   "metadata": {},
   "outputs": [],
   "source": [
    "train_opt = CustomDatasetOptions(\n",
    "    dataset_type=CustomDatasetType.TRAIN,\n",
    "    n_levels=5,\n",
    "    fold=0,\n",
    "    mask=False,\n",
    "    object=True\n",
    ")\n",
    "test_opt = CustomDatasetOptions(\n",
    "    dataset_type=CustomDatasetType.TEST,\n",
    "    n_levels=5,\n",
    "    fold=0,\n",
    "    mask=False,\n",
    "    object=True\n",
    ")\n",
    "val_opt = CustomDatasetOptions(\n",
    "    dataset_type=CustomDatasetType.VALIDATION,\n",
    "    n_levels=5,\n",
    "    fold=0,\n",
    "    mask=False,\n",
    "    object=True\n",
    ")\n",
    "\n",
    "batch_size = 32\n",
    "source = \"/home/keviinplz/universidad/tesis/snhost/data\"\n",
    "train = CustomDataset(options=train_opt, source=source)\n",
    "test = CustomDataset(options=test_opt, source=source)\n",
    "val = CustomDataset(options=val_opt, source=source)"
   ]
  },
  {
   "cell_type": "code",
   "execution_count": 41,
   "metadata": {},
   "outputs": [],
   "source": [
    "from torch.utils.data import DataLoader\n",
    "\n",
    "params = {\n",
    "    \"debug\": False,\n",
    "    \"levels\": 5,\n",
    "    \"nconv1\": 16,\n",
    "    \"nconv2\": 32,\n",
    "    \"nconv3\": 32,\n",
    "    \"ndense\": 128\n",
    "}\n",
    "\n",
    "train_dl = DataLoader(train, batch_size=batch_size, shuffle=True)\n",
    "test_dl = DataLoader(test, batch_size=batch_size, shuffle=True)\n",
    "val_dl = DataLoader(val, batch_size=batch_size, shuffle=True)\n",
    "model = DELIGHTModel(**params)"
   ]
  },
  {
   "cell_type": "code",
   "execution_count": 42,
   "metadata": {},
   "outputs": [
    {
     "name": "stdout",
     "output_type": "stream",
     "text": [
      "The tensorboard extension is already loaded. To reload it, use:\n",
      "  %reload_ext tensorboard\n"
     ]
    }
   ],
   "source": [
    "%load_ext tensorboard\n",
    "ts = datetime.now().strftime('%Y%m%d_%H%M%S')\n",
    "loss_fn = torch.nn.MSELoss()\n",
    "optimizer = torch.optim.Adam(model.parameters(), weight_decay=1e-4)\n",
    "\n",
    "name = params_to_string(params)\n",
    "writer = SummaryWriter('runs/delight_{}_{}'.format(name, ts))\n",
    "\n",
    "EPOCHS = 50"
   ]
  },
  {
   "cell_type": "code",
   "execution_count": 43,
   "metadata": {},
   "outputs": [],
   "source": [
    "def train_one_epoch(epoch: int, tb_writer: SummaryWriter, device: str = \"cuda\"):\n",
    "        running_loss = 0.\n",
    "        last_loss = 0.\n",
    "    \n",
    "        # Here, we use enumerate(training_loader) instead of\n",
    "        # iter(training_loader) so that we can track the batch\n",
    "        # index and do some intra-epoch reporting\n",
    "        pbar = tqdm(train_dl, leave=False, position=1)\n",
    "        for i, data in enumerate(pbar):\n",
    "            # Every data instance is an input + label pair\n",
    "            inputs, labels = data\n",
    "            inputs = inputs.to(device)\n",
    "            labels = labels.to(device)\n",
    "    \n",
    "            # Zero your gradients for every batch!\n",
    "            optimizer.zero_grad()\n",
    "    \n",
    "            # Make predictions for this batch\n",
    "            outputs = model(inputs)\n",
    "    \n",
    "            # Compute the loss and its gradients\n",
    "            loss = loss_fn(outputs, labels)\n",
    "            loss.backward()\n",
    "    \n",
    "            # Adjust learning weights\n",
    "            optimizer.step()\n",
    "    \n",
    "            # Gather data and report\n",
    "            running_loss += loss.item()\n",
    "            if i % batch_size == batch_size - 1:\n",
    "                last_loss = running_loss / batch_size # loss per batch\n",
    "                pbar.set_description('batch {} loss: {}'.format(i + 1, last_loss))\n",
    "                tb_x = epoch * len(train_dl) + i + 1\n",
    "                tb_writer.add_scalar('Loss/train', last_loss, tb_x)\n",
    "                running_loss = 0.\n",
    "    \n",
    "        return last_loss"
   ]
  },
  {
   "cell_type": "code",
   "execution_count": 44,
   "metadata": {},
   "outputs": [
    {
     "data": {
      "text/plain": [
       "Reusing TensorBoard on port 6006 (pid 95170), started 0:06:23 ago. (Use '!kill 95170' to kill it.)"
      ]
     },
     "metadata": {},
     "output_type": "display_data"
    },
    {
     "data": {
      "text/html": [
       "\n",
       "      <iframe id=\"tensorboard-frame-cd515dd2102b740e\" width=\"100%\" height=\"800\" frameborder=\"0\">\n",
       "      </iframe>\n",
       "      <script>\n",
       "        (function() {\n",
       "          const frame = document.getElementById(\"tensorboard-frame-cd515dd2102b740e\");\n",
       "          const url = new URL(\"/\", window.location);\n",
       "          const port = 6006;\n",
       "          if (port) {\n",
       "            url.port = port;\n",
       "          }\n",
       "          frame.src = url;\n",
       "        })();\n",
       "      </script>\n",
       "    "
      ],
      "text/plain": [
       "<IPython.core.display.HTML object>"
      ]
     },
     "metadata": {},
     "output_type": "display_data"
    },
    {
     "data": {
      "application/vnd.jupyter.widget-view+json": {
       "model_id": "",
       "version_major": 2,
       "version_minor": 0
      },
      "text/plain": [
       "  0%|          | 0/50 [00:00<?, ?it/s]"
      ]
     },
     "metadata": {},
     "output_type": "display_data"
    },
    {
     "data": {
      "application/vnd.jupyter.widget-view+json": {
       "model_id": "",
       "version_major": 2,
       "version_minor": 0
      },
      "text/plain": [
       "  0%|          | 0/301 [00:00<?, ?it/s]"
      ]
     },
     "metadata": {},
     "output_type": "display_data"
    },
    {
     "data": {
      "application/vnd.jupyter.widget-view+json": {
       "model_id": "",
       "version_major": 2,
       "version_minor": 0
      },
      "text/plain": [
       "  0%|          | 0/301 [00:00<?, ?it/s]"
      ]
     },
     "metadata": {},
     "output_type": "display_data"
    },
    {
     "data": {
      "application/vnd.jupyter.widget-view+json": {
       "model_id": "",
       "version_major": 2,
       "version_minor": 0
      },
      "text/plain": [
       "  0%|          | 0/301 [00:00<?, ?it/s]"
      ]
     },
     "metadata": {},
     "output_type": "display_data"
    },
    {
     "data": {
      "application/vnd.jupyter.widget-view+json": {
       "model_id": "",
       "version_major": 2,
       "version_minor": 0
      },
      "text/plain": [
       "  0%|          | 0/301 [00:00<?, ?it/s]"
      ]
     },
     "metadata": {},
     "output_type": "display_data"
    },
    {
     "data": {
      "application/vnd.jupyter.widget-view+json": {
       "model_id": "",
       "version_major": 2,
       "version_minor": 0
      },
      "text/plain": [
       "  0%|          | 0/301 [00:00<?, ?it/s]"
      ]
     },
     "metadata": {},
     "output_type": "display_data"
    },
    {
     "data": {
      "application/vnd.jupyter.widget-view+json": {
       "model_id": "",
       "version_major": 2,
       "version_minor": 0
      },
      "text/plain": [
       "  0%|          | 0/301 [00:00<?, ?it/s]"
      ]
     },
     "metadata": {},
     "output_type": "display_data"
    },
    {
     "data": {
      "application/vnd.jupyter.widget-view+json": {
       "model_id": "",
       "version_major": 2,
       "version_minor": 0
      },
      "text/plain": [
       "  0%|          | 0/301 [00:00<?, ?it/s]"
      ]
     },
     "metadata": {},
     "output_type": "display_data"
    },
    {
     "data": {
      "application/vnd.jupyter.widget-view+json": {
       "model_id": "",
       "version_major": 2,
       "version_minor": 0
      },
      "text/plain": [
       "  0%|          | 0/301 [00:00<?, ?it/s]"
      ]
     },
     "metadata": {},
     "output_type": "display_data"
    },
    {
     "data": {
      "application/vnd.jupyter.widget-view+json": {
       "model_id": "",
       "version_major": 2,
       "version_minor": 0
      },
      "text/plain": [
       "  0%|          | 0/301 [00:00<?, ?it/s]"
      ]
     },
     "metadata": {},
     "output_type": "display_data"
    },
    {
     "data": {
      "application/vnd.jupyter.widget-view+json": {
       "model_id": "",
       "version_major": 2,
       "version_minor": 0
      },
      "text/plain": [
       "  0%|          | 0/301 [00:00<?, ?it/s]"
      ]
     },
     "metadata": {},
     "output_type": "display_data"
    },
    {
     "data": {
      "application/vnd.jupyter.widget-view+json": {
       "model_id": "",
       "version_major": 2,
       "version_minor": 0
      },
      "text/plain": [
       "  0%|          | 0/301 [00:00<?, ?it/s]"
      ]
     },
     "metadata": {},
     "output_type": "display_data"
    },
    {
     "data": {
      "application/vnd.jupyter.widget-view+json": {
       "model_id": "",
       "version_major": 2,
       "version_minor": 0
      },
      "text/plain": [
       "  0%|          | 0/301 [00:00<?, ?it/s]"
      ]
     },
     "metadata": {},
     "output_type": "display_data"
    },
    {
     "data": {
      "application/vnd.jupyter.widget-view+json": {
       "model_id": "",
       "version_major": 2,
       "version_minor": 0
      },
      "text/plain": [
       "  0%|          | 0/301 [00:00<?, ?it/s]"
      ]
     },
     "metadata": {},
     "output_type": "display_data"
    },
    {
     "data": {
      "application/vnd.jupyter.widget-view+json": {
       "model_id": "",
       "version_major": 2,
       "version_minor": 0
      },
      "text/plain": [
       "  0%|          | 0/301 [00:00<?, ?it/s]"
      ]
     },
     "metadata": {},
     "output_type": "display_data"
    },
    {
     "data": {
      "application/vnd.jupyter.widget-view+json": {
       "model_id": "",
       "version_major": 2,
       "version_minor": 0
      },
      "text/plain": [
       "  0%|          | 0/301 [00:00<?, ?it/s]"
      ]
     },
     "metadata": {},
     "output_type": "display_data"
    },
    {
     "data": {
      "application/vnd.jupyter.widget-view+json": {
       "model_id": "",
       "version_major": 2,
       "version_minor": 0
      },
      "text/plain": [
       "  0%|          | 0/301 [00:00<?, ?it/s]"
      ]
     },
     "metadata": {},
     "output_type": "display_data"
    },
    {
     "data": {
      "application/vnd.jupyter.widget-view+json": {
       "model_id": "",
       "version_major": 2,
       "version_minor": 0
      },
      "text/plain": [
       "  0%|          | 0/301 [00:00<?, ?it/s]"
      ]
     },
     "metadata": {},
     "output_type": "display_data"
    },
    {
     "data": {
      "application/vnd.jupyter.widget-view+json": {
       "model_id": "",
       "version_major": 2,
       "version_minor": 0
      },
      "text/plain": [
       "  0%|          | 0/301 [00:00<?, ?it/s]"
      ]
     },
     "metadata": {},
     "output_type": "display_data"
    },
    {
     "data": {
      "application/vnd.jupyter.widget-view+json": {
       "model_id": "",
       "version_major": 2,
       "version_minor": 0
      },
      "text/plain": [
       "  0%|          | 0/301 [00:00<?, ?it/s]"
      ]
     },
     "metadata": {},
     "output_type": "display_data"
    },
    {
     "data": {
      "application/vnd.jupyter.widget-view+json": {
       "model_id": "",
       "version_major": 2,
       "version_minor": 0
      },
      "text/plain": [
       "  0%|          | 0/301 [00:00<?, ?it/s]"
      ]
     },
     "metadata": {},
     "output_type": "display_data"
    },
    {
     "data": {
      "application/vnd.jupyter.widget-view+json": {
       "model_id": "",
       "version_major": 2,
       "version_minor": 0
      },
      "text/plain": [
       "  0%|          | 0/301 [00:00<?, ?it/s]"
      ]
     },
     "metadata": {},
     "output_type": "display_data"
    },
    {
     "data": {
      "application/vnd.jupyter.widget-view+json": {
       "model_id": "",
       "version_major": 2,
       "version_minor": 0
      },
      "text/plain": [
       "  0%|          | 0/301 [00:00<?, ?it/s]"
      ]
     },
     "metadata": {},
     "output_type": "display_data"
    },
    {
     "data": {
      "application/vnd.jupyter.widget-view+json": {
       "model_id": "",
       "version_major": 2,
       "version_minor": 0
      },
      "text/plain": [
       "  0%|          | 0/301 [00:00<?, ?it/s]"
      ]
     },
     "metadata": {},
     "output_type": "display_data"
    },
    {
     "data": {
      "application/vnd.jupyter.widget-view+json": {
       "model_id": "",
       "version_major": 2,
       "version_minor": 0
      },
      "text/plain": [
       "  0%|          | 0/301 [00:00<?, ?it/s]"
      ]
     },
     "metadata": {},
     "output_type": "display_data"
    },
    {
     "data": {
      "application/vnd.jupyter.widget-view+json": {
       "model_id": "",
       "version_major": 2,
       "version_minor": 0
      },
      "text/plain": [
       "  0%|          | 0/301 [00:00<?, ?it/s]"
      ]
     },
     "metadata": {},
     "output_type": "display_data"
    },
    {
     "data": {
      "application/vnd.jupyter.widget-view+json": {
       "model_id": "",
       "version_major": 2,
       "version_minor": 0
      },
      "text/plain": [
       "  0%|          | 0/301 [00:00<?, ?it/s]"
      ]
     },
     "metadata": {},
     "output_type": "display_data"
    },
    {
     "data": {
      "application/vnd.jupyter.widget-view+json": {
       "model_id": "",
       "version_major": 2,
       "version_minor": 0
      },
      "text/plain": [
       "  0%|          | 0/301 [00:00<?, ?it/s]"
      ]
     },
     "metadata": {},
     "output_type": "display_data"
    },
    {
     "data": {
      "application/vnd.jupyter.widget-view+json": {
       "model_id": "",
       "version_major": 2,
       "version_minor": 0
      },
      "text/plain": [
       "  0%|          | 0/301 [00:00<?, ?it/s]"
      ]
     },
     "metadata": {},
     "output_type": "display_data"
    },
    {
     "data": {
      "application/vnd.jupyter.widget-view+json": {
       "model_id": "",
       "version_major": 2,
       "version_minor": 0
      },
      "text/plain": [
       "  0%|          | 0/301 [00:00<?, ?it/s]"
      ]
     },
     "metadata": {},
     "output_type": "display_data"
    },
    {
     "data": {
      "application/vnd.jupyter.widget-view+json": {
       "model_id": "",
       "version_major": 2,
       "version_minor": 0
      },
      "text/plain": [
       "  0%|          | 0/301 [00:00<?, ?it/s]"
      ]
     },
     "metadata": {},
     "output_type": "display_data"
    },
    {
     "data": {
      "application/vnd.jupyter.widget-view+json": {
       "model_id": "",
       "version_major": 2,
       "version_minor": 0
      },
      "text/plain": [
       "  0%|          | 0/301 [00:00<?, ?it/s]"
      ]
     },
     "metadata": {},
     "output_type": "display_data"
    },
    {
     "data": {
      "application/vnd.jupyter.widget-view+json": {
       "model_id": "",
       "version_major": 2,
       "version_minor": 0
      },
      "text/plain": [
       "  0%|          | 0/301 [00:00<?, ?it/s]"
      ]
     },
     "metadata": {},
     "output_type": "display_data"
    },
    {
     "data": {
      "application/vnd.jupyter.widget-view+json": {
       "model_id": "",
       "version_major": 2,
       "version_minor": 0
      },
      "text/plain": [
       "  0%|          | 0/301 [00:00<?, ?it/s]"
      ]
     },
     "metadata": {},
     "output_type": "display_data"
    },
    {
     "data": {
      "application/vnd.jupyter.widget-view+json": {
       "model_id": "",
       "version_major": 2,
       "version_minor": 0
      },
      "text/plain": [
       "  0%|          | 0/301 [00:00<?, ?it/s]"
      ]
     },
     "metadata": {},
     "output_type": "display_data"
    },
    {
     "data": {
      "application/vnd.jupyter.widget-view+json": {
       "model_id": "",
       "version_major": 2,
       "version_minor": 0
      },
      "text/plain": [
       "  0%|          | 0/301 [00:00<?, ?it/s]"
      ]
     },
     "metadata": {},
     "output_type": "display_data"
    },
    {
     "data": {
      "application/vnd.jupyter.widget-view+json": {
       "model_id": "",
       "version_major": 2,
       "version_minor": 0
      },
      "text/plain": [
       "  0%|          | 0/301 [00:00<?, ?it/s]"
      ]
     },
     "metadata": {},
     "output_type": "display_data"
    },
    {
     "data": {
      "application/vnd.jupyter.widget-view+json": {
       "model_id": "",
       "version_major": 2,
       "version_minor": 0
      },
      "text/plain": [
       "  0%|          | 0/301 [00:00<?, ?it/s]"
      ]
     },
     "metadata": {},
     "output_type": "display_data"
    },
    {
     "data": {
      "application/vnd.jupyter.widget-view+json": {
       "model_id": "",
       "version_major": 2,
       "version_minor": 0
      },
      "text/plain": [
       "  0%|          | 0/301 [00:00<?, ?it/s]"
      ]
     },
     "metadata": {},
     "output_type": "display_data"
    },
    {
     "data": {
      "application/vnd.jupyter.widget-view+json": {
       "model_id": "",
       "version_major": 2,
       "version_minor": 0
      },
      "text/plain": [
       "  0%|          | 0/301 [00:00<?, ?it/s]"
      ]
     },
     "metadata": {},
     "output_type": "display_data"
    },
    {
     "data": {
      "application/vnd.jupyter.widget-view+json": {
       "model_id": "",
       "version_major": 2,
       "version_minor": 0
      },
      "text/plain": [
       "  0%|          | 0/301 [00:00<?, ?it/s]"
      ]
     },
     "metadata": {},
     "output_type": "display_data"
    },
    {
     "data": {
      "application/vnd.jupyter.widget-view+json": {
       "model_id": "",
       "version_major": 2,
       "version_minor": 0
      },
      "text/plain": [
       "  0%|          | 0/301 [00:00<?, ?it/s]"
      ]
     },
     "metadata": {},
     "output_type": "display_data"
    },
    {
     "data": {
      "application/vnd.jupyter.widget-view+json": {
       "model_id": "",
       "version_major": 2,
       "version_minor": 0
      },
      "text/plain": [
       "  0%|          | 0/301 [00:00<?, ?it/s]"
      ]
     },
     "metadata": {},
     "output_type": "display_data"
    },
    {
     "data": {
      "application/vnd.jupyter.widget-view+json": {
       "model_id": "",
       "version_major": 2,
       "version_minor": 0
      },
      "text/plain": [
       "  0%|          | 0/301 [00:00<?, ?it/s]"
      ]
     },
     "metadata": {},
     "output_type": "display_data"
    },
    {
     "data": {
      "application/vnd.jupyter.widget-view+json": {
       "model_id": "",
       "version_major": 2,
       "version_minor": 0
      },
      "text/plain": [
       "  0%|          | 0/301 [00:00<?, ?it/s]"
      ]
     },
     "metadata": {},
     "output_type": "display_data"
    },
    {
     "data": {
      "application/vnd.jupyter.widget-view+json": {
       "model_id": "",
       "version_major": 2,
       "version_minor": 0
      },
      "text/plain": [
       "  0%|          | 0/301 [00:00<?, ?it/s]"
      ]
     },
     "metadata": {},
     "output_type": "display_data"
    },
    {
     "data": {
      "application/vnd.jupyter.widget-view+json": {
       "model_id": "",
       "version_major": 2,
       "version_minor": 0
      },
      "text/plain": [
       "  0%|          | 0/301 [00:00<?, ?it/s]"
      ]
     },
     "metadata": {},
     "output_type": "display_data"
    },
    {
     "data": {
      "application/vnd.jupyter.widget-view+json": {
       "model_id": "",
       "version_major": 2,
       "version_minor": 0
      },
      "text/plain": [
       "  0%|          | 0/301 [00:00<?, ?it/s]"
      ]
     },
     "metadata": {},
     "output_type": "display_data"
    },
    {
     "data": {
      "application/vnd.jupyter.widget-view+json": {
       "model_id": "",
       "version_major": 2,
       "version_minor": 0
      },
      "text/plain": [
       "  0%|          | 0/301 [00:00<?, ?it/s]"
      ]
     },
     "metadata": {},
     "output_type": "display_data"
    },
    {
     "data": {
      "application/vnd.jupyter.widget-view+json": {
       "model_id": "",
       "version_major": 2,
       "version_minor": 0
      },
      "text/plain": [
       "  0%|          | 0/301 [00:00<?, ?it/s]"
      ]
     },
     "metadata": {},
     "output_type": "display_data"
    },
    {
     "data": {
      "application/vnd.jupyter.widget-view+json": {
       "model_id": "",
       "version_major": 2,
       "version_minor": 0
      },
      "text/plain": [
       "  0%|          | 0/301 [00:00<?, ?it/s]"
      ]
     },
     "metadata": {},
     "output_type": "display_data"
    }
   ],
   "source": [
    "%tensorboard --logdir runs\n",
    "\n",
    "best_vloss = 1_000_000.\n",
    "device = \"cuda\"\n",
    "\n",
    "os.makedirs(\"states\", exist_ok=True)\n",
    "\n",
    "pbar = tqdm(range(EPOCHS), leave=False, position=0)\n",
    "\n",
    "for epoch in pbar:\n",
    "    pbar.set_description(\"Running epoch %s\" % epoch)\n",
    "\n",
    "    # Make sure gradient tracking is on, and do a pass over the data\n",
    "    model.train(True)\n",
    "    model.to(device)\n",
    "    avg_loss = train_one_epoch(epoch, writer, device)\n",
    "\n",
    "\n",
    "    running_vloss = 0.0\n",
    "    # Set the model to evaluation mode, disabling dropout and using population\n",
    "    # statistics for batch normalization.\n",
    "    model.eval()\n",
    "\n",
    "    # Disable gradient computation and reduce memory consumption.\n",
    "    with torch.no_grad():\n",
    "        for i, vdata in enumerate(val_dl):\n",
    "            vinputs, vlabels = vdata\n",
    "            vinputs = vinputs.to(device)\n",
    "            vlabels = vlabels.to(device)\n",
    "            \n",
    "            voutputs = model(vinputs)\n",
    "\n",
    "            vloss = loss_fn(voutputs, vlabels)\n",
    "            running_vloss += vloss\n",
    "\n",
    "    avg_vloss = running_vloss / (i + 1)\n",
    "    pbar.set_description(\"LOSS train %s valid %s\" % (avg_loss, avg_vloss), refresh=False)\n",
    "\n",
    "    # Log the running loss averaged per batch\n",
    "    # for both training and validation\n",
    "    writer.add_scalars('Training vs. Validation Loss',\n",
    "                    { 'Training' : avg_loss, 'Validation' : avg_vloss },\n",
    "                    epoch + 1)\n",
    "    writer.flush()\n",
    "\n",
    "    # Track best performance, and save the model's state\n",
    "    if avg_vloss < best_vloss:\n",
    "        best_vloss = avg_vloss\n",
    "        model_path = 'states/model_{}_{}'.format(ts, epoch)\n",
    "        torch.save(model.state_dict(), model_path)\n",
    "\n",
    "    epoch += 1"
   ]
  },
  {
   "cell_type": "code",
   "execution_count": 45,
   "metadata": {},
   "outputs": [
    {
     "data": {
      "text/plain": [
       "(torch.Size([32, 5, 1, 30, 30]), torch.Size([32, 16]))"
      ]
     },
     "execution_count": 45,
     "metadata": {},
     "output_type": "execute_result"
    }
   ],
   "source": [
    "X_train, y_train = next(iter(train_dl))\n",
    "X_train.shape, y_train.shape"
   ]
  }
 ],
 "metadata": {
  "kernelspec": {
   "display_name": "Python 3 (ipykernel)",
   "language": "python",
   "name": "python3"
  },
  "language_info": {
   "codemirror_mode": {
    "name": "ipython",
    "version": 3
   },
   "file_extension": ".py",
   "mimetype": "text/x-python",
   "name": "python",
   "nbconvert_exporter": "python",
   "pygments_lexer": "ipython3",
   "version": "3.10.12"
  },
  "toc": {
   "base_numbering": 1
  }
 },
 "nbformat": 4,
 "nbformat_minor": 4
}
