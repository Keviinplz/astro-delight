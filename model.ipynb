{
 "cells": [
  {
   "cell_type": "code",
   "execution_count": 71,
   "metadata": {},
   "outputs": [],
   "source": [
    "import random\n",
    "from datetime import datetime\n",
    "\n",
    "import torch\n",
    "from torch.utils.tensorboard import SummaryWriter\n",
    "from tqdm.notebook import tqdm\n",
    "\n",
    "QUANTITY_OF_TEST_CASES = 20\n",
    "\n",
    "def params_to_string(params: dict) -> str:\n",
    "    name = \"\"\n",
    "    for key, value in params.items():\n",
    "        name += f\"{key}_{value}-\"\n",
    "    return name[:-1]\n",
    "\n",
    "class RotationAndFlipLayer(torch.nn.Module):\n",
    "    \"\"\"\n",
    "    A layer that converts a (B, L, C, W, H) into a (B * 8 * L, C, W, H)\n",
    "    \"\"\"\n",
    "    def __init__(self):\n",
    "        super().__init__()\n",
    "        self.metadata = None\n",
    "        \n",
    "    def forward(self, x: torch.Tensor) -> torch.Tensor:\n",
    "        batch, levels, channels, width, height = x.shape\n",
    "\n",
    "        self.metadata = { \"batch\": batch, \"levels\": levels, \"transforms\": 8 }\n",
    "        \n",
    "        x = x.reshape(batch * levels, channels, width, height)\n",
    "        \n",
    "        width_dim = len(x.shape) - 2\n",
    "        height_dim = len(x.shape) - 1\n",
    "        \n",
    "        flipped: torch.Tensor = x.flip(dims=(width_dim,))\n",
    "        flipped_rot90: torch.Tensor = flipped.rot90(k=1, dims=(width_dim, height_dim))\n",
    "        flipped_rot180: torch.Tensor = flipped.rot90(k=2, dims=(width_dim, height_dim))\n",
    "        flipped_rot270: torch.Tensor = flipped.rot90(k=3, dims=(width_dim, height_dim))\n",
    "        rot90: torch.Tensor = x.rot90(k=1, dims=(width_dim, height_dim))\n",
    "        rot180: torch.Tensor = x.rot90(k=2, dims=(width_dim, height_dim))\n",
    "        rot270: torch.tensor = x.rot90(k=3, dims=(width_dim, height_dim))\n",
    "\n",
    "        # return torch.cat((\n",
    "        #     x,\n",
    "        #     rot90,\n",
    "        #     rot180,\n",
    "        #     rot270,\n",
    "        #     flipped, \n",
    "        #     flipped_rot90,\n",
    "        #     flipped_rot180,\n",
    "        #     flipped_rot270,\n",
    "        # ), dim=0)\n",
    "        \n",
    "        return torch.cat((\n",
    "            x,\n",
    "            x,\n",
    "            x,\n",
    "            x,\n",
    "            x, \n",
    "            x,\n",
    "            x,\n",
    "            x,\n",
    "        ), dim=0)\n",
    "\n",
    "def test_rotation_and_flip_layer():\n",
    "    layer = RotationAndFlipLayer()\n",
    "    \n",
    "    for _ in range(QUANTITY_OF_TEST_CASES):\n",
    "        batch = random.randint(1, 100)\n",
    "        levels = random.randint(1, 100)\n",
    "\n",
    "        x = torch.zeros((batch, levels, 1, 30, 30))\n",
    "        out = layer.forward(x)\n",
    "\n",
    "        transforms = layer.metadata[\"transforms\"]\n",
    "\n",
    "        expected = batch * levels * 8\n",
    "        assert out.shape == torch.Size([expected, 1, 30, 30]), f\"Test failed with batch {batch} and level {levels}\"\n",
    "\n",
    "test_rotation_and_flip_layer()"
   ]
  },
  {
   "cell_type": "code",
   "execution_count": 72,
   "metadata": {},
   "outputs": [],
   "source": [
    "class DELIGHTModel(torch.nn.Module):\n",
    "    \"\"\"\n",
    "    DELIGHT implementation written in torch.\n",
    "\n",
    "    Allows inputs of ([B]atch, [L]evel, [C]hannels, [W]idth, [H]eight).\n",
    "\n",
    "    \"\"\"\n",
    "    def __init__(self, debug: bool = False, nconv1: int = 52, nconv2: int = 57, nconv3: int = 41, nlinear1: int = 3280, nlinear2: int = 685):\n",
    "        super().__init__()\n",
    "        self.rot_and_flip = RotationAndFlipLayer()\n",
    "        self.debug = debug\n",
    "        self.CONV2D_ONE_OUT_CHANNELS = nconv1\n",
    "        self.CONV2D_TWO_OUT_CHANNELS = nconv2\n",
    "        self.CONV2D_THREE_OUT_CHANNELS = nconv3\n",
    "        self.LINEAR_ONE_IN = nlinear1\n",
    "        self.LINEAR_TWO_IN = nlinear2\n",
    "\n",
    "        self.conv1 = torch.nn.Conv2d(\n",
    "            in_channels=1,\n",
    "            out_channels=self.CONV2D_ONE_OUT_CHANNELS, \n",
    "            kernel_size=3\n",
    "        )\n",
    "        self.conv2 = torch.nn.Conv2d(\n",
    "            in_channels=self.conv1.out_channels, \n",
    "            out_channels=self.CONV2D_TWO_OUT_CHANNELS,\n",
    "            kernel_size=3\n",
    "        )\n",
    "        self.conv3 = torch.nn.Conv2d(\n",
    "            in_channels=self.conv2.out_channels, \n",
    "            out_channels=self.CONV2D_THREE_OUT_CHANNELS, \n",
    "            kernel_size=3\n",
    "        )\n",
    "        self.relu = torch.nn.ReLU()\n",
    "        self.max_pool = torch.nn.MaxPool2d(kernel_size=2)\n",
    "        self.flatten = torch.nn.Flatten()\n",
    "        \n",
    "        self.bottleneck = torch.nn.Sequential(\n",
    "            self.conv1,\n",
    "            self.relu,\n",
    "            self.max_pool, \n",
    "            self.conv2,\n",
    "            self.relu,\n",
    "            self.max_pool,\n",
    "            self.conv3,\n",
    "            self.relu,\n",
    "            self.flatten,\n",
    "        )\n",
    "\n",
    "        self.fc1 = torch.nn.Linear(in_features=self.LINEAR_ONE_IN, out_features=self.LINEAR_TWO_IN)\n",
    "        self.fc2 = torch.nn.Linear(in_features=self.LINEAR_TWO_IN, out_features=2)\n",
    "        self.tanh = torch.nn.Tanh()\n",
    "\n",
    "    def _undo_transformations(self, x: torch.Tensor, n_transform: int, batch_size: int) -> torch.Tensor:\n",
    "        chunks = []\n",
    "        for transform in x.chunk(n_transform):\n",
    "            partitions = [batch.reshape(-1) for batch in transform.chunk(batch_size)]\n",
    "            chunks.append(torch.stack(partitions))\n",
    "        return torch.stack(chunks).permute(1, 0, 2)\n",
    "                \n",
    "    def forward(self, x: torch.Tensor) -> torch.Tensor:                \n",
    "        # Apply flips and rotations over level (L) dimension\n",
    "        x = self.rot_and_flip(x)\n",
    "        batch_size = self.rot_and_flip.metadata[\"batch\"]\n",
    "        levels = self.rot_and_flip.metadata[\"levels\"]\n",
    "        n_transforms = self.rot_and_flip.metadata[\"transforms\"]\n",
    "        \n",
    "        # Bottleneck\n",
    "        x = self.bottleneck(x)\n",
    "\n",
    "        if self.debug:\n",
    "            print(f\"Pre bottleneck: {x.shape}\")\n",
    "\n",
    "        x = self._undo_transformations(x, n_transforms, batch_size)\n",
    "        if self.debug:\n",
    "            print(f\"Post bottleneck: {x.shape}\")\n",
    "        # Linear\n",
    "        x = self.fc1(x)\n",
    "        x = self.tanh(x)\n",
    "        x = self.fc2(x)\n",
    "        \n",
    "        return x.reshape((batch_size, n_transforms * 2))"
   ]
  },
  {
   "cell_type": "code",
   "execution_count": 73,
   "metadata": {},
   "outputs": [
    {
     "name": "stdout",
     "output_type": "stream",
     "text": [
      "Pre bottleneck: torch.Size([1280, 512])\n",
      "Post bottleneck: torch.Size([32, 8, 2560])\n"
     ]
    }
   ],
   "source": [
    "### (Batch * Levels, Channels, Width, Heigth) \n",
    "\n",
    "_batch_size = 32\n",
    "_levels = 5\n",
    "_channels = 1\n",
    "\n",
    "params = {\n",
    "    \"debug\": True,\n",
    "    \"nconv1\": 16,\n",
    "    \"nconv2\": 32,\n",
    "    \"nconv3\": 32,\n",
    "    \"nlinear1\": 2560,\n",
    "    \"nlinear2\": 128\n",
    "}\n",
    "\n",
    "_x = torch.zeros((_batch_size, _levels, _channels, 30, 30))\n",
    "_model = DELIGHTModel(**params)\n",
    "_out = _model.forward(_x)\n",
    "assert _out.shape == torch.Size([_batch_size, 16])"
   ]
  },
  {
   "cell_type": "code",
   "execution_count": 75,
   "metadata": {},
   "outputs": [],
   "source": [
    "import os\n",
    "from enum import Enum\n",
    "from typing import Union\n",
    "from dataclasses import dataclass\n",
    "\n",
    "import numpy as np\n",
    "from torch.utils.data import Dataset\n",
    "\n",
    "class CustomDatasetType(Enum):\n",
    "    TRAIN = \"TRAIN\"\n",
    "    TEST = \"TEST\"\n",
    "    VALIDATION = \"VALIDATION\"\n",
    "    \n",
    "@dataclass\n",
    "class CustomDatasetOptions:\n",
    "    dataset_type: CustomDatasetType\n",
    "    n_levels: int\n",
    "    fold: int\n",
    "    mask: bool\n",
    "    object: bool\n",
    "\n",
    "    def get_filenames(self) -> str:\n",
    "        if self.dataset_type == CustomDatasetType.TRAIN:\n",
    "            X = \"X_train_nlevels%i_fold%i_mask%s_objects%s.npy\" % (self.n_levels, self.fold, self.mask, self.object)\n",
    "            y = \"y_train_nlevels%i_fold%i_mask%s_objects%s.npy\" % (self.n_levels, self.fold, self.mask, self.object)\n",
    "        elif self.dataset_type == CustomDatasetType.TEST:\n",
    "            X = \"X_test_nlevels%i_mask%s_objects%s.npy\" % (self.n_levels, self.mask, self.object)\n",
    "            y = \"y_test_nlevels%i_mask%s_objects%s.npy\" % (self.n_levels, self.mask, self.object)\n",
    "        else:\n",
    "            X = \"X_val_nlevels%i_fold%i_mask%s_objects%s.npy\" % (self.n_levels, self.fold, self.mask, self.object)\n",
    "            y = \"y_val_nlevels%i_fold%i_mask%s_objects%s.npy\" % (self.n_levels, self.fold, self.mask, self.object)\n",
    "            \n",
    "        return X, y\n",
    "            \n",
    "class CustomDataset(Dataset):    \n",
    "    def __init__(self, options: CustomDatasetOptions, source: Union[str, None] = None):\n",
    "        self.source = source if source is not None else \"/home/fforster/SNHosts/data\"\n",
    "        X_path, y_path = options.get_filenames()\n",
    "        self.X = torch.Tensor(np.load(os.path.join(self.source, X_path))).permute(0, 3, 1, 2)\n",
    "        self.y = torch.Tensor(self.rotateY(np.load(os.path.join(self.source, y_path))))\n",
    "\n",
    "    def rotateY(self, y: np.ndarray) -> np.ndarray:\n",
    "        y90 = [-1, 1] * y[:, ::-1]\n",
    "        y180 = [-1, 1] * y90[:, ::-1]\n",
    "        y270 = [-1, 1] * y180[:, ::-1]\n",
    "        yflip = [1, -1] * y\n",
    "        yflip90 = [-1, 1] * yflip[:, ::-1]\n",
    "        yflip180 = [-1, 1] * yflip90[:, ::-1]\n",
    "        yflip270 = [-1, 1] * yflip180[:, ::-1]\n",
    "\n",
    "        # return np.concatenate([\n",
    "        #     y,\n",
    "        #     y90,\n",
    "        #     y180,\n",
    "        #     y270,\n",
    "        #     yflip,\n",
    "        #     yflip90,\n",
    "        #     yflip180,\n",
    "        #     yflip270\n",
    "        # ], axis=1)\n",
    "\n",
    "        return np.concatenate([\n",
    "            y,\n",
    "            y,\n",
    "            y,\n",
    "            y,\n",
    "            y,\n",
    "            y,\n",
    "            y,\n",
    "            y\n",
    "        ], axis=1)\n",
    "    def __len__(self):\n",
    "        return len(self.y)\n",
    "\n",
    "    def __getitem__(self, idx: int):\n",
    "        X = self.X[idx]\n",
    "        y = self.y[idx]\n",
    "\n",
    "        if len(X.shape) == 3: # has no channel information\n",
    "            levels, width, height = X.shape \n",
    "            X = X.reshape(levels, 1, width, height) # asume 1 channel information\n",
    "        return X, y"
   ]
  },
  {
   "cell_type": "code",
   "execution_count": 76,
   "metadata": {},
   "outputs": [],
   "source": [
    "train_opt = CustomDatasetOptions(\n",
    "    dataset_type=CustomDatasetType.TRAIN,\n",
    "    n_levels=5,\n",
    "    fold=0,\n",
    "    mask=False,\n",
    "    object=True\n",
    ")\n",
    "test_opt = CustomDatasetOptions(\n",
    "    dataset_type=CustomDatasetType.TEST,\n",
    "    n_levels=5,\n",
    "    fold=0,\n",
    "    mask=False,\n",
    "    object=True\n",
    ")\n",
    "val_opt = CustomDatasetOptions(\n",
    "    dataset_type=CustomDatasetType.VALIDATION,\n",
    "    n_levels=5,\n",
    "    fold=0,\n",
    "    mask=False,\n",
    "    object=True\n",
    ")\n",
    "\n",
    "batch_size = 32\n",
    "source = \"/home/keviinplz/universidad/tesis/snhost/data\"\n",
    "train = CustomDataset(options=train_opt, source=source)\n",
    "test = CustomDataset(options=test_opt, source=source)\n",
    "val = CustomDataset(options=val_opt, source=source)"
   ]
  },
  {
   "cell_type": "code",
   "execution_count": 77,
   "metadata": {},
   "outputs": [],
   "source": [
    "from torch.utils.data import DataLoader\n",
    "\n",
    "params = {\n",
    "    \"debug\": False,\n",
    "    \"nconv1\": 16,\n",
    "    \"nconv2\": 32,\n",
    "    \"nconv3\": 32,\n",
    "    \"nlinear1\": 2560,\n",
    "    \"nlinear2\": 128\n",
    "}\n",
    "\n",
    "train_dl = DataLoader(train, batch_size=batch_size, shuffle=True)\n",
    "test_dl = DataLoader(test, batch_size=batch_size, shuffle=True)\n",
    "val_dl = DataLoader(val, batch_size=batch_size, shuffle=True)\n",
    "model = DELIGHTModel(**params)"
   ]
  },
  {
   "cell_type": "code",
   "execution_count": 78,
   "metadata": {},
   "outputs": [
    {
     "name": "stdout",
     "output_type": "stream",
     "text": [
      "The tensorboard extension is already loaded. To reload it, use:\n",
      "  %reload_ext tensorboard\n"
     ]
    }
   ],
   "source": [
    "%load_ext tensorboard\n",
    "ts = datetime.now().strftime('%Y%m%d_%H%M%S')\n",
    "loss_fn = torch.nn.MSELoss()\n",
    "optimizer = torch.optim.Adam(model.parameters(), weight_decay=1e-4)\n",
    "\n",
    "name = params_to_string(params)\n",
    "writer = SummaryWriter('runs/delight_{}_{}'.format(name, ts))\n",
    "\n",
    "EPOCHS = 50"
   ]
  },
  {
   "cell_type": "code",
   "execution_count": 79,
   "metadata": {},
   "outputs": [],
   "source": [
    "def train_one_epoch(epoch: int, tb_writer: SummaryWriter, device: str = \"cuda\"):\n",
    "        running_loss = 0.\n",
    "        last_loss = 0.\n",
    "    \n",
    "        # Here, we use enumerate(training_loader) instead of\n",
    "        # iter(training_loader) so that we can track the batch\n",
    "        # index and do some intra-epoch reporting\n",
    "        pbar = tqdm(train_dl, leave=False, position=1)\n",
    "        for i, data in enumerate(pbar):\n",
    "            # Every data instance is an input + label pair\n",
    "            inputs, labels = data\n",
    "            inputs = inputs.to(device)\n",
    "            labels = labels.to(device)\n",
    "    \n",
    "            # Zero your gradients for every batch!\n",
    "            optimizer.zero_grad()\n",
    "    \n",
    "            # Make predictions for this batch\n",
    "            outputs = model(inputs)\n",
    "    \n",
    "            # Compute the loss and its gradients\n",
    "            loss = loss_fn(outputs, labels)\n",
    "            loss.backward()\n",
    "    \n",
    "            # Adjust learning weights\n",
    "            optimizer.step()\n",
    "    \n",
    "            # Gather data and report\n",
    "            running_loss += loss.item()\n",
    "            if i % batch_size == batch_size - 1:\n",
    "                last_loss = running_loss / batch_size # loss per batch\n",
    "                pbar.set_description('batch {} loss: {}'.format(i + 1, last_loss))\n",
    "                tb_x = epoch * len(train_dl) + i + 1\n",
    "                tb_writer.add_scalar('Loss/train', last_loss, tb_x)\n",
    "                running_loss = 0.\n",
    "    \n",
    "        return last_loss"
   ]
  },
  {
   "cell_type": "code",
   "execution_count": 80,
   "metadata": {},
   "outputs": [
    {
     "data": {
      "text/html": [
       "\n",
       "      <iframe id=\"tensorboard-frame-1fe02ba2d90b87a0\" width=\"100%\" height=\"800\" frameborder=\"0\">\n",
       "      </iframe>\n",
       "      <script>\n",
       "        (function() {\n",
       "          const frame = document.getElementById(\"tensorboard-frame-1fe02ba2d90b87a0\");\n",
       "          const url = new URL(\"/\", window.location);\n",
       "          const port = 6006;\n",
       "          if (port) {\n",
       "            url.port = port;\n",
       "          }\n",
       "          frame.src = url;\n",
       "        })();\n",
       "      </script>\n",
       "    "
      ],
      "text/plain": [
       "<IPython.core.display.HTML object>"
      ]
     },
     "metadata": {},
     "output_type": "display_data"
    },
    {
     "data": {
      "application/vnd.jupyter.widget-view+json": {
       "model_id": "",
       "version_major": 2,
       "version_minor": 0
      },
      "text/plain": [
       "  0%|          | 0/50 [00:00<?, ?it/s]"
      ]
     },
     "metadata": {},
     "output_type": "display_data"
    },
    {
     "data": {
      "application/vnd.jupyter.widget-view+json": {
       "model_id": "",
       "version_major": 2,
       "version_minor": 0
      },
      "text/plain": [
       "  0%|          | 0/301 [00:00<?, ?it/s]"
      ]
     },
     "metadata": {},
     "output_type": "display_data"
    },
    {
     "data": {
      "application/vnd.jupyter.widget-view+json": {
       "model_id": "",
       "version_major": 2,
       "version_minor": 0
      },
      "text/plain": [
       "  0%|          | 0/301 [00:00<?, ?it/s]"
      ]
     },
     "metadata": {},
     "output_type": "display_data"
    },
    {
     "data": {
      "application/vnd.jupyter.widget-view+json": {
       "model_id": "",
       "version_major": 2,
       "version_minor": 0
      },
      "text/plain": [
       "  0%|          | 0/301 [00:00<?, ?it/s]"
      ]
     },
     "metadata": {},
     "output_type": "display_data"
    },
    {
     "data": {
      "application/vnd.jupyter.widget-view+json": {
       "model_id": "",
       "version_major": 2,
       "version_minor": 0
      },
      "text/plain": [
       "  0%|          | 0/301 [00:00<?, ?it/s]"
      ]
     },
     "metadata": {},
     "output_type": "display_data"
    },
    {
     "data": {
      "application/vnd.jupyter.widget-view+json": {
       "model_id": "",
       "version_major": 2,
       "version_minor": 0
      },
      "text/plain": [
       "  0%|          | 0/301 [00:00<?, ?it/s]"
      ]
     },
     "metadata": {},
     "output_type": "display_data"
    },
    {
     "data": {
      "application/vnd.jupyter.widget-view+json": {
       "model_id": "",
       "version_major": 2,
       "version_minor": 0
      },
      "text/plain": [
       "  0%|          | 0/301 [00:00<?, ?it/s]"
      ]
     },
     "metadata": {},
     "output_type": "display_data"
    },
    {
     "data": {
      "application/vnd.jupyter.widget-view+json": {
       "model_id": "",
       "version_major": 2,
       "version_minor": 0
      },
      "text/plain": [
       "  0%|          | 0/301 [00:00<?, ?it/s]"
      ]
     },
     "metadata": {},
     "output_type": "display_data"
    },
    {
     "data": {
      "application/vnd.jupyter.widget-view+json": {
       "model_id": "",
       "version_major": 2,
       "version_minor": 0
      },
      "text/plain": [
       "  0%|          | 0/301 [00:00<?, ?it/s]"
      ]
     },
     "metadata": {},
     "output_type": "display_data"
    },
    {
     "data": {
      "application/vnd.jupyter.widget-view+json": {
       "model_id": "",
       "version_major": 2,
       "version_minor": 0
      },
      "text/plain": [
       "  0%|          | 0/301 [00:00<?, ?it/s]"
      ]
     },
     "metadata": {},
     "output_type": "display_data"
    },
    {
     "data": {
      "application/vnd.jupyter.widget-view+json": {
       "model_id": "",
       "version_major": 2,
       "version_minor": 0
      },
      "text/plain": [
       "  0%|          | 0/301 [00:00<?, ?it/s]"
      ]
     },
     "metadata": {},
     "output_type": "display_data"
    },
    {
     "data": {
      "application/vnd.jupyter.widget-view+json": {
       "model_id": "",
       "version_major": 2,
       "version_minor": 0
      },
      "text/plain": [
       "  0%|          | 0/301 [00:00<?, ?it/s]"
      ]
     },
     "metadata": {},
     "output_type": "display_data"
    },
    {
     "data": {
      "application/vnd.jupyter.widget-view+json": {
       "model_id": "",
       "version_major": 2,
       "version_minor": 0
      },
      "text/plain": [
       "  0%|          | 0/301 [00:00<?, ?it/s]"
      ]
     },
     "metadata": {},
     "output_type": "display_data"
    },
    {
     "data": {
      "application/vnd.jupyter.widget-view+json": {
       "model_id": "",
       "version_major": 2,
       "version_minor": 0
      },
      "text/plain": [
       "  0%|          | 0/301 [00:00<?, ?it/s]"
      ]
     },
     "metadata": {},
     "output_type": "display_data"
    },
    {
     "data": {
      "application/vnd.jupyter.widget-view+json": {
       "model_id": "",
       "version_major": 2,
       "version_minor": 0
      },
      "text/plain": [
       "  0%|          | 0/301 [00:00<?, ?it/s]"
      ]
     },
     "metadata": {},
     "output_type": "display_data"
    },
    {
     "data": {
      "application/vnd.jupyter.widget-view+json": {
       "model_id": "",
       "version_major": 2,
       "version_minor": 0
      },
      "text/plain": [
       "  0%|          | 0/301 [00:00<?, ?it/s]"
      ]
     },
     "metadata": {},
     "output_type": "display_data"
    },
    {
     "data": {
      "application/vnd.jupyter.widget-view+json": {
       "model_id": "",
       "version_major": 2,
       "version_minor": 0
      },
      "text/plain": [
       "  0%|          | 0/301 [00:00<?, ?it/s]"
      ]
     },
     "metadata": {},
     "output_type": "display_data"
    },
    {
     "data": {
      "application/vnd.jupyter.widget-view+json": {
       "model_id": "",
       "version_major": 2,
       "version_minor": 0
      },
      "text/plain": [
       "  0%|          | 0/301 [00:00<?, ?it/s]"
      ]
     },
     "metadata": {},
     "output_type": "display_data"
    },
    {
     "data": {
      "application/vnd.jupyter.widget-view+json": {
       "model_id": "",
       "version_major": 2,
       "version_minor": 0
      },
      "text/plain": [
       "  0%|          | 0/301 [00:00<?, ?it/s]"
      ]
     },
     "metadata": {},
     "output_type": "display_data"
    },
    {
     "data": {
      "application/vnd.jupyter.widget-view+json": {
       "model_id": "",
       "version_major": 2,
       "version_minor": 0
      },
      "text/plain": [
       "  0%|          | 0/301 [00:00<?, ?it/s]"
      ]
     },
     "metadata": {},
     "output_type": "display_data"
    },
    {
     "data": {
      "application/vnd.jupyter.widget-view+json": {
       "model_id": "",
       "version_major": 2,
       "version_minor": 0
      },
      "text/plain": [
       "  0%|          | 0/301 [00:00<?, ?it/s]"
      ]
     },
     "metadata": {},
     "output_type": "display_data"
    },
    {
     "data": {
      "application/vnd.jupyter.widget-view+json": {
       "model_id": "",
       "version_major": 2,
       "version_minor": 0
      },
      "text/plain": [
       "  0%|          | 0/301 [00:00<?, ?it/s]"
      ]
     },
     "metadata": {},
     "output_type": "display_data"
    },
    {
     "data": {
      "application/vnd.jupyter.widget-view+json": {
       "model_id": "",
       "version_major": 2,
       "version_minor": 0
      },
      "text/plain": [
       "  0%|          | 0/301 [00:00<?, ?it/s]"
      ]
     },
     "metadata": {},
     "output_type": "display_data"
    },
    {
     "data": {
      "application/vnd.jupyter.widget-view+json": {
       "model_id": "",
       "version_major": 2,
       "version_minor": 0
      },
      "text/plain": [
       "  0%|          | 0/301 [00:00<?, ?it/s]"
      ]
     },
     "metadata": {},
     "output_type": "display_data"
    },
    {
     "data": {
      "application/vnd.jupyter.widget-view+json": {
       "model_id": "",
       "version_major": 2,
       "version_minor": 0
      },
      "text/plain": [
       "  0%|          | 0/301 [00:00<?, ?it/s]"
      ]
     },
     "metadata": {},
     "output_type": "display_data"
    },
    {
     "data": {
      "application/vnd.jupyter.widget-view+json": {
       "model_id": "",
       "version_major": 2,
       "version_minor": 0
      },
      "text/plain": [
       "  0%|          | 0/301 [00:00<?, ?it/s]"
      ]
     },
     "metadata": {},
     "output_type": "display_data"
    },
    {
     "data": {
      "application/vnd.jupyter.widget-view+json": {
       "model_id": "",
       "version_major": 2,
       "version_minor": 0
      },
      "text/plain": [
       "  0%|          | 0/301 [00:00<?, ?it/s]"
      ]
     },
     "metadata": {},
     "output_type": "display_data"
    },
    {
     "data": {
      "application/vnd.jupyter.widget-view+json": {
       "model_id": "",
       "version_major": 2,
       "version_minor": 0
      },
      "text/plain": [
       "  0%|          | 0/301 [00:00<?, ?it/s]"
      ]
     },
     "metadata": {},
     "output_type": "display_data"
    },
    {
     "data": {
      "application/vnd.jupyter.widget-view+json": {
       "model_id": "",
       "version_major": 2,
       "version_minor": 0
      },
      "text/plain": [
       "  0%|          | 0/301 [00:00<?, ?it/s]"
      ]
     },
     "metadata": {},
     "output_type": "display_data"
    },
    {
     "data": {
      "application/vnd.jupyter.widget-view+json": {
       "model_id": "",
       "version_major": 2,
       "version_minor": 0
      },
      "text/plain": [
       "  0%|          | 0/301 [00:00<?, ?it/s]"
      ]
     },
     "metadata": {},
     "output_type": "display_data"
    },
    {
     "data": {
      "application/vnd.jupyter.widget-view+json": {
       "model_id": "",
       "version_major": 2,
       "version_minor": 0
      },
      "text/plain": [
       "  0%|          | 0/301 [00:00<?, ?it/s]"
      ]
     },
     "metadata": {},
     "output_type": "display_data"
    },
    {
     "data": {
      "application/vnd.jupyter.widget-view+json": {
       "model_id": "",
       "version_major": 2,
       "version_minor": 0
      },
      "text/plain": [
       "  0%|          | 0/301 [00:00<?, ?it/s]"
      ]
     },
     "metadata": {},
     "output_type": "display_data"
    },
    {
     "data": {
      "application/vnd.jupyter.widget-view+json": {
       "model_id": "",
       "version_major": 2,
       "version_minor": 0
      },
      "text/plain": [
       "  0%|          | 0/301 [00:00<?, ?it/s]"
      ]
     },
     "metadata": {},
     "output_type": "display_data"
    },
    {
     "data": {
      "application/vnd.jupyter.widget-view+json": {
       "model_id": "",
       "version_major": 2,
       "version_minor": 0
      },
      "text/plain": [
       "  0%|          | 0/301 [00:00<?, ?it/s]"
      ]
     },
     "metadata": {},
     "output_type": "display_data"
    },
    {
     "data": {
      "application/vnd.jupyter.widget-view+json": {
       "model_id": "",
       "version_major": 2,
       "version_minor": 0
      },
      "text/plain": [
       "  0%|          | 0/301 [00:00<?, ?it/s]"
      ]
     },
     "metadata": {},
     "output_type": "display_data"
    },
    {
     "data": {
      "application/vnd.jupyter.widget-view+json": {
       "model_id": "",
       "version_major": 2,
       "version_minor": 0
      },
      "text/plain": [
       "  0%|          | 0/301 [00:00<?, ?it/s]"
      ]
     },
     "metadata": {},
     "output_type": "display_data"
    },
    {
     "data": {
      "application/vnd.jupyter.widget-view+json": {
       "model_id": "",
       "version_major": 2,
       "version_minor": 0
      },
      "text/plain": [
       "  0%|          | 0/301 [00:00<?, ?it/s]"
      ]
     },
     "metadata": {},
     "output_type": "display_data"
    },
    {
     "data": {
      "application/vnd.jupyter.widget-view+json": {
       "model_id": "",
       "version_major": 2,
       "version_minor": 0
      },
      "text/plain": [
       "  0%|          | 0/301 [00:00<?, ?it/s]"
      ]
     },
     "metadata": {},
     "output_type": "display_data"
    },
    {
     "data": {
      "application/vnd.jupyter.widget-view+json": {
       "model_id": "",
       "version_major": 2,
       "version_minor": 0
      },
      "text/plain": [
       "  0%|          | 0/301 [00:00<?, ?it/s]"
      ]
     },
     "metadata": {},
     "output_type": "display_data"
    },
    {
     "data": {
      "application/vnd.jupyter.widget-view+json": {
       "model_id": "",
       "version_major": 2,
       "version_minor": 0
      },
      "text/plain": [
       "  0%|          | 0/301 [00:00<?, ?it/s]"
      ]
     },
     "metadata": {},
     "output_type": "display_data"
    },
    {
     "data": {
      "application/vnd.jupyter.widget-view+json": {
       "model_id": "",
       "version_major": 2,
       "version_minor": 0
      },
      "text/plain": [
       "  0%|          | 0/301 [00:00<?, ?it/s]"
      ]
     },
     "metadata": {},
     "output_type": "display_data"
    },
    {
     "data": {
      "application/vnd.jupyter.widget-view+json": {
       "model_id": "",
       "version_major": 2,
       "version_minor": 0
      },
      "text/plain": [
       "  0%|          | 0/301 [00:00<?, ?it/s]"
      ]
     },
     "metadata": {},
     "output_type": "display_data"
    },
    {
     "data": {
      "application/vnd.jupyter.widget-view+json": {
       "model_id": "",
       "version_major": 2,
       "version_minor": 0
      },
      "text/plain": [
       "  0%|          | 0/301 [00:00<?, ?it/s]"
      ]
     },
     "metadata": {},
     "output_type": "display_data"
    },
    {
     "data": {
      "application/vnd.jupyter.widget-view+json": {
       "model_id": "",
       "version_major": 2,
       "version_minor": 0
      },
      "text/plain": [
       "  0%|          | 0/301 [00:00<?, ?it/s]"
      ]
     },
     "metadata": {},
     "output_type": "display_data"
    },
    {
     "data": {
      "application/vnd.jupyter.widget-view+json": {
       "model_id": "",
       "version_major": 2,
       "version_minor": 0
      },
      "text/plain": [
       "  0%|          | 0/301 [00:00<?, ?it/s]"
      ]
     },
     "metadata": {},
     "output_type": "display_data"
    },
    {
     "data": {
      "application/vnd.jupyter.widget-view+json": {
       "model_id": "",
       "version_major": 2,
       "version_minor": 0
      },
      "text/plain": [
       "  0%|          | 0/301 [00:00<?, ?it/s]"
      ]
     },
     "metadata": {},
     "output_type": "display_data"
    },
    {
     "data": {
      "application/vnd.jupyter.widget-view+json": {
       "model_id": "",
       "version_major": 2,
       "version_minor": 0
      },
      "text/plain": [
       "  0%|          | 0/301 [00:00<?, ?it/s]"
      ]
     },
     "metadata": {},
     "output_type": "display_data"
    },
    {
     "data": {
      "application/vnd.jupyter.widget-view+json": {
       "model_id": "",
       "version_major": 2,
       "version_minor": 0
      },
      "text/plain": [
       "  0%|          | 0/301 [00:00<?, ?it/s]"
      ]
     },
     "metadata": {},
     "output_type": "display_data"
    },
    {
     "data": {
      "application/vnd.jupyter.widget-view+json": {
       "model_id": "",
       "version_major": 2,
       "version_minor": 0
      },
      "text/plain": [
       "  0%|          | 0/301 [00:00<?, ?it/s]"
      ]
     },
     "metadata": {},
     "output_type": "display_data"
    },
    {
     "data": {
      "application/vnd.jupyter.widget-view+json": {
       "model_id": "37a51a3db2a24793b42346220937844b",
       "version_major": 2,
       "version_minor": 0
      },
      "text/plain": [
       "  0%|          | 0/301 [00:00<?, ?it/s]"
      ]
     },
     "metadata": {},
     "output_type": "display_data"
    },
    {
     "data": {
      "application/vnd.jupyter.widget-view+json": {
       "model_id": "15903074eb704c4ba0b1862f77be40e3",
       "version_major": 2,
       "version_minor": 0
      },
      "text/plain": [
       "  0%|          | 0/301 [00:00<?, ?it/s]"
      ]
     },
     "metadata": {},
     "output_type": "display_data"
    }
   ],
   "source": [
    "%tensorboard --logdir runs\n",
    "\n",
    "best_vloss = 1_000_000.\n",
    "device = \"cuda\"\n",
    "\n",
    "os.makedirs(\"states\", exist_ok=True)\n",
    "\n",
    "pbar = tqdm(range(EPOCHS), leave=False, position=0)\n",
    "\n",
    "for epoch in pbar:\n",
    "    pbar.set_description(\"Running epoch %s\" % epoch)\n",
    "\n",
    "    # Make sure gradient tracking is on, and do a pass over the data\n",
    "    model.train(True)\n",
    "    model.to(device)\n",
    "    avg_loss = train_one_epoch(epoch, writer, device)\n",
    "\n",
    "\n",
    "    running_vloss = 0.0\n",
    "    # Set the model to evaluation mode, disabling dropout and using population\n",
    "    # statistics for batch normalization.\n",
    "    model.eval()\n",
    "\n",
    "    # Disable gradient computation and reduce memory consumption.\n",
    "    with torch.no_grad():\n",
    "        for i, vdata in enumerate(val_dl):\n",
    "            vinputs, vlabels = vdata\n",
    "            vinputs = vinputs.to(device)\n",
    "            vlabels = vlabels.to(device)\n",
    "            \n",
    "            voutputs = model(vinputs)\n",
    "\n",
    "            vloss = loss_fn(voutputs, vlabels)\n",
    "            running_vloss += vloss\n",
    "\n",
    "    avg_vloss = running_vloss / (i + 1)\n",
    "    pbar.set_description(\"LOSS train %s valid %s\" % (avg_loss, avg_vloss), refresh=False)\n",
    "\n",
    "    # Log the running loss averaged per batch\n",
    "    # for both training and validation\n",
    "    writer.add_scalars('Training vs. Validation Loss',\n",
    "                    { 'Training' : avg_loss, 'Validation' : avg_vloss },\n",
    "                    epoch + 1)\n",
    "    writer.flush()\n",
    "\n",
    "    # Track best performance, and save the model's state\n",
    "    if avg_vloss < best_vloss:\n",
    "        best_vloss = avg_vloss\n",
    "        model_path = 'states/model_{}_{}'.format(ts, epoch)\n",
    "        torch.save(model.state_dict(), model_path)\n",
    "\n",
    "    epoch += 1"
   ]
  },
  {
   "cell_type": "code",
   "execution_count": 81,
   "metadata": {},
   "outputs": [
    {
     "data": {
      "text/plain": [
       "(tensor(84.9670, device='cuda:0'), 6.793004307895899)"
      ]
     },
     "execution_count": 81,
     "metadata": {},
     "output_type": "execute_result"
    }
   ],
   "source": [
    "best_vloss, avg_loss"
   ]
  }
 ],
 "metadata": {
  "kernelspec": {
   "display_name": "Python 3 (ipykernel)",
   "language": "python",
   "name": "python3"
  },
  "language_info": {
   "codemirror_mode": {
    "name": "ipython",
    "version": 3
   },
   "file_extension": ".py",
   "mimetype": "text/x-python",
   "name": "python",
   "nbconvert_exporter": "python",
   "pygments_lexer": "ipython3",
   "version": "3.10.12"
  },
  "toc": {
   "base_numbering": 1
  }
 },
 "nbformat": 4,
 "nbformat_minor": 4
}
